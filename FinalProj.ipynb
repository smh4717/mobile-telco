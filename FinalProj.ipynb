{
 "cells": [
  {
   "cell_type": "markdown",
   "metadata": {},
   "source": [
    "강남대 201904209 산업데이터사이언스 서명훈\n",
    "\n",
    "# 이동 통신 사용자 데이터 분석"
   ]
  },
  {
   "cell_type": "code",
   "execution_count": 3,
   "metadata": {},
   "outputs": [],
   "source": [
    "import pandas as pd\n",
    "import numpy as np\n",
    "import seaborn as sns\n",
    "import matplotlib.pyplot as plt"
   ]
  },
  {
   "cell_type": "code",
   "execution_count": 4,
   "metadata": {},
   "outputs": [],
   "source": [
    "telco = pd.read_csv('telco.csv')"
   ]
  },
  {
   "cell_type": "markdown",
   "metadata": {},
   "source": [
    "이동 통신 사용자 데이터"
   ]
  },
  {
   "cell_type": "code",
   "execution_count": 4,
   "metadata": {},
   "outputs": [
    {
     "data": {
      "text/html": [
       "<div>\n",
       "<style scoped>\n",
       "    .dataframe tbody tr th:only-of-type {\n",
       "        vertical-align: middle;\n",
       "    }\n",
       "\n",
       "    .dataframe tbody tr th {\n",
       "        vertical-align: top;\n",
       "    }\n",
       "\n",
       "    .dataframe thead th {\n",
       "        text-align: right;\n",
       "    }\n",
       "</style>\n",
       "<table border=\"1\" class=\"dataframe\">\n",
       "  <thead>\n",
       "    <tr style=\"text-align: right;\">\n",
       "      <th></th>\n",
       "      <th>Leave</th>\n",
       "      <th>MemberWeeks</th>\n",
       "      <th>NewContract</th>\n",
       "      <th>IsData</th>\n",
       "      <th>DataAmount</th>\n",
       "      <th>Callcenter</th>\n",
       "      <th>CalMins</th>\n",
       "      <th>CalCounts</th>\n",
       "      <th>MonthlyFee</th>\n",
       "      <th>OverFee</th>\n",
       "      <th>RoamingMin</th>\n",
       "    </tr>\n",
       "  </thead>\n",
       "  <tbody>\n",
       "    <tr>\n",
       "      <th>0</th>\n",
       "      <td>0</td>\n",
       "      <td>128</td>\n",
       "      <td>1</td>\n",
       "      <td>1</td>\n",
       "      <td>2.70</td>\n",
       "      <td>1</td>\n",
       "      <td>265.1</td>\n",
       "      <td>110</td>\n",
       "      <td>89.0</td>\n",
       "      <td>9.87</td>\n",
       "      <td>10.0</td>\n",
       "    </tr>\n",
       "    <tr>\n",
       "      <th>1</th>\n",
       "      <td>0</td>\n",
       "      <td>107</td>\n",
       "      <td>1</td>\n",
       "      <td>1</td>\n",
       "      <td>3.70</td>\n",
       "      <td>1</td>\n",
       "      <td>161.6</td>\n",
       "      <td>123</td>\n",
       "      <td>82.0</td>\n",
       "      <td>9.78</td>\n",
       "      <td>13.7</td>\n",
       "    </tr>\n",
       "    <tr>\n",
       "      <th>2</th>\n",
       "      <td>0</td>\n",
       "      <td>137</td>\n",
       "      <td>1</td>\n",
       "      <td>0</td>\n",
       "      <td>0.00</td>\n",
       "      <td>0</td>\n",
       "      <td>243.4</td>\n",
       "      <td>114</td>\n",
       "      <td>52.0</td>\n",
       "      <td>6.06</td>\n",
       "      <td>12.2</td>\n",
       "    </tr>\n",
       "    <tr>\n",
       "      <th>3</th>\n",
       "      <td>0</td>\n",
       "      <td>84</td>\n",
       "      <td>0</td>\n",
       "      <td>0</td>\n",
       "      <td>0.00</td>\n",
       "      <td>2</td>\n",
       "      <td>299.4</td>\n",
       "      <td>71</td>\n",
       "      <td>57.0</td>\n",
       "      <td>3.10</td>\n",
       "      <td>6.6</td>\n",
       "    </tr>\n",
       "    <tr>\n",
       "      <th>4</th>\n",
       "      <td>0</td>\n",
       "      <td>75</td>\n",
       "      <td>0</td>\n",
       "      <td>0</td>\n",
       "      <td>0.00</td>\n",
       "      <td>3</td>\n",
       "      <td>166.7</td>\n",
       "      <td>113</td>\n",
       "      <td>41.0</td>\n",
       "      <td>7.42</td>\n",
       "      <td>10.1</td>\n",
       "    </tr>\n",
       "    <tr>\n",
       "      <th>...</th>\n",
       "      <td>...</td>\n",
       "      <td>...</td>\n",
       "      <td>...</td>\n",
       "      <td>...</td>\n",
       "      <td>...</td>\n",
       "      <td>...</td>\n",
       "      <td>...</td>\n",
       "      <td>...</td>\n",
       "      <td>...</td>\n",
       "      <td>...</td>\n",
       "      <td>...</td>\n",
       "    </tr>\n",
       "    <tr>\n",
       "      <th>3328</th>\n",
       "      <td>0</td>\n",
       "      <td>192</td>\n",
       "      <td>1</td>\n",
       "      <td>1</td>\n",
       "      <td>2.67</td>\n",
       "      <td>2</td>\n",
       "      <td>156.2</td>\n",
       "      <td>77</td>\n",
       "      <td>71.7</td>\n",
       "      <td>10.78</td>\n",
       "      <td>9.9</td>\n",
       "    </tr>\n",
       "    <tr>\n",
       "      <th>3329</th>\n",
       "      <td>0</td>\n",
       "      <td>68</td>\n",
       "      <td>1</td>\n",
       "      <td>0</td>\n",
       "      <td>0.34</td>\n",
       "      <td>3</td>\n",
       "      <td>231.1</td>\n",
       "      <td>57</td>\n",
       "      <td>56.4</td>\n",
       "      <td>7.67</td>\n",
       "      <td>9.6</td>\n",
       "    </tr>\n",
       "    <tr>\n",
       "      <th>3330</th>\n",
       "      <td>0</td>\n",
       "      <td>28</td>\n",
       "      <td>1</td>\n",
       "      <td>0</td>\n",
       "      <td>0.00</td>\n",
       "      <td>2</td>\n",
       "      <td>180.8</td>\n",
       "      <td>109</td>\n",
       "      <td>56.0</td>\n",
       "      <td>14.44</td>\n",
       "      <td>14.1</td>\n",
       "    </tr>\n",
       "    <tr>\n",
       "      <th>3331</th>\n",
       "      <td>0</td>\n",
       "      <td>184</td>\n",
       "      <td>0</td>\n",
       "      <td>0</td>\n",
       "      <td>0.00</td>\n",
       "      <td>2</td>\n",
       "      <td>213.8</td>\n",
       "      <td>105</td>\n",
       "      <td>50.0</td>\n",
       "      <td>7.98</td>\n",
       "      <td>5.0</td>\n",
       "    </tr>\n",
       "    <tr>\n",
       "      <th>3332</th>\n",
       "      <td>0</td>\n",
       "      <td>74</td>\n",
       "      <td>1</td>\n",
       "      <td>1</td>\n",
       "      <td>3.70</td>\n",
       "      <td>0</td>\n",
       "      <td>234.4</td>\n",
       "      <td>113</td>\n",
       "      <td>100.0</td>\n",
       "      <td>13.30</td>\n",
       "      <td>13.7</td>\n",
       "    </tr>\n",
       "  </tbody>\n",
       "</table>\n",
       "<p>3333 rows × 11 columns</p>\n",
       "</div>"
      ],
      "text/plain": [
       "      Leave  MemberWeeks  NewContract  IsData  DataAmount  Callcenter  \\\n",
       "0         0          128            1       1        2.70           1   \n",
       "1         0          107            1       1        3.70           1   \n",
       "2         0          137            1       0        0.00           0   \n",
       "3         0           84            0       0        0.00           2   \n",
       "4         0           75            0       0        0.00           3   \n",
       "...     ...          ...          ...     ...         ...         ...   \n",
       "3328      0          192            1       1        2.67           2   \n",
       "3329      0           68            1       0        0.34           3   \n",
       "3330      0           28            1       0        0.00           2   \n",
       "3331      0          184            0       0        0.00           2   \n",
       "3332      0           74            1       1        3.70           0   \n",
       "\n",
       "      CalMins  CalCounts  MonthlyFee  OverFee  RoamingMin  \n",
       "0       265.1        110        89.0     9.87        10.0  \n",
       "1       161.6        123        82.0     9.78        13.7  \n",
       "2       243.4        114        52.0     6.06        12.2  \n",
       "3       299.4         71        57.0     3.10         6.6  \n",
       "4       166.7        113        41.0     7.42        10.1  \n",
       "...       ...        ...         ...      ...         ...  \n",
       "3328    156.2         77        71.7    10.78         9.9  \n",
       "3329    231.1         57        56.4     7.67         9.6  \n",
       "3330    180.8        109        56.0    14.44        14.1  \n",
       "3331    213.8        105        50.0     7.98         5.0  \n",
       "3332    234.4        113       100.0    13.30        13.7  \n",
       "\n",
       "[3333 rows x 11 columns]"
      ]
     },
     "execution_count": 4,
     "metadata": {},
     "output_type": "execute_result"
    }
   ],
   "source": [
    "telco"
   ]
  },
  {
   "cell_type": "markdown",
   "metadata": {},
   "source": [
    "먼저 모든 변수의 상관관계를 살펴봐야합니다."
   ]
  },
  {
   "cell_type": "code",
   "execution_count": 29,
   "metadata": {},
   "outputs": [
    {
     "data": {
      "text/plain": [
       "<matplotlib.axes._subplots.AxesSubplot at 0x28ebb11e848>"
      ]
     },
     "execution_count": 29,
     "metadata": {},
     "output_type": "execute_result"
    },
    {
     "data": {
      "image/png": "[encoded data removed]",
      "text/plain": [
       "<Figure size 576x576 with 2 Axes>"
      ]
     },
     "metadata": {
      "needs_background": "light"
     },
     "output_type": "display_data"
    }
   ],
   "source": [
    "# 모든 변수 상관관계\n",
    "fig, ax = plt.subplots(figsize=(8, 8))\n",
    "corr = telco[['Leave', 'MemberWeeks', 'NewContract', 'IsData',\n",
    "            'DataAmount', 'Callcenter', 'CalMins', 'CalCounts',\n",
    "            'MonthlyFee', 'OverFee', 'RoamingMin']].corr()\n",
    "\n",
    "mask = np.zeros_like(corr, dtype=np.bool)\n",
    "mask[np.triu_indices_from(mask)] = True\n",
    "sns.heatmap(\n",
    "    corr,\n",
    "    mask=mask,\n",
    "    fmt='.2f',\n",
    "    annot=True,\n",
    "    ax=ax,\n",
    "    cmap='RdBu',\n",
    "    vmin=-1,\n",
    "    vmax=1,\n",
    "    square=True\n",
    ")"
   ]
  },
  {
   "cell_type": "markdown",
   "metadata": {},
   "source": [
    "#### 상관관계가 있는 것  \n",
    "데이터사용량 - 월평균요금, 로밍\"시간, 데이터요금제사용  \n",
    "월평균요금 - 데이터요금제사용, 데이터사용량, 월평균전화량, 초과요금, 로밍시간"
   ]
  },
  {
   "cell_type": "markdown",
   "metadata": {},
   "source": [
    "스캐터 등을 통해 자세히 살펴보겠습니다."
   ]
  },
  {
   "cell_type": "markdown",
   "metadata": {},
   "source": [
    "#### 데이터사용량 x 월평균요금  \n",
    "데이터를 많이 사용하는 사람이 요금을 많이 낸다"
   ]
  },
  {
   "cell_type": "code",
   "execution_count": 5,
   "metadata": {},
   "outputs": [
    {
     "data": {
      "text/plain": [
       "<matplotlib.axes._subplots.AxesSubplot at 0x2071b27d8c8>"
      ]
     },
     "execution_count": 5,
     "metadata": {},
     "output_type": "execute_result"
    },
    {
     "data": {
      "image/png": "[encoded data removed]",
      "text/plain": [
       "<Figure size 288x288 with 1 Axes>"
      ]
     },
     "metadata": {
      "needs_background": "light"
     },
     "output_type": "display_data"
    }
   ],
   "source": [
    "fig, ax = plt.subplots(figsize=(4, 4))\n",
    "telco.plot.scatter(\n",
    "    x='DataAmount',\n",
    "    y='MonthlyFee',\n",
    "    alpha=.1,\n",
    "    ax=ax\n",
    ")"
   ]
  },
  {
   "cell_type": "markdown",
   "metadata": {},
   "source": [
    "#### 월평균전화량 x 월평균요금\n",
    "전화를 많이 하는 사람이 요금을 많이 낸다"
   ]
  },
  {
   "cell_type": "code",
   "execution_count": 6,
   "metadata": {},
   "outputs": [
    {
     "data": {
      "text/plain": [
       "<matplotlib.axes._subplots.AxesSubplot at 0x2071b0d21c8>"
      ]
     },
     "execution_count": 6,
     "metadata": {},
     "output_type": "execute_result"
    },
    {
     "data": {
      "image/png": "[encoded data removed]",
      "text/plain": [
       "<Figure size 288x288 with 1 Axes>"
      ]
     },
     "metadata": {
      "needs_background": "light"
     },
     "output_type": "display_data"
    }
   ],
   "source": [
    "fig, ax = plt.subplots(figsize=(4, 4))\n",
    "telco.plot.scatter(\n",
    "    x='CalMins',\n",
    "    y='MonthlyFee',\n",
    "    alpha=.1,\n",
    "    ax=ax\n",
    ")"
   ]
  },
  {
   "cell_type": "markdown",
   "metadata": {},
   "source": [
    "#### 데이터 요금제 사용 x 월평균요금\n",
    "데이터 요금제를 사용하는 사람이 요금을 많이 낸다"
   ]
  },
  {
   "cell_type": "code",
   "execution_count": 7,
   "metadata": {},
   "outputs": [
    {
     "data": {
      "text/plain": [
       "<matplotlib.axes._subplots.AxesSubplot at 0x2071b1b1888>"
      ]
     },
     "execution_count": 7,
     "metadata": {},
     "output_type": "execute_result"
    },
    {
     "data": {
      "image/png": "[encoded data removed]",
      "text/plain": [
       "<Figure size 288x288 with 1 Axes>"
      ]
     },
     "metadata": {
      "needs_background": "light"
     },
     "output_type": "display_data"
    }
   ],
   "source": [
    "fig, ax = plt.subplots(figsize=(4, 4))\n",
    "telco.plot.scatter(\n",
    "    x='IsData',\n",
    "    y='MonthlyFee',\n",
    "    alpha=.1,\n",
    "    ax=ax\n",
    ")"
   ]
  },
  {
   "cell_type": "markdown",
   "metadata": {},
   "source": [
    "#### 데이터사용량과 월평균요금 분포표\n",
    "데이터를 사용하지 않고 요금이 70까지 많이 나오는 사람들이 많은 것을 알 수 있습니다."
   ]
  },
  {
   "cell_type": "code",
   "execution_count": 9,
   "metadata": {},
   "outputs": [
    {
     "data": {
      "text/html": [
       "<style  type=\"text/css\" >\n",
       "    #T_2e05285a_c544_11eb_86d5_acd5648baa3crow0_col0 {\n",
       "            background-color:  yellow;\n",
       "        }    #T_2e05285a_c544_11eb_86d5_acd5648baa3crow0_col1 {\n",
       "            background-color:  yellow;\n",
       "        }    #T_2e05285a_c544_11eb_86d5_acd5648baa3crow0_col2 {\n",
       "            background-color:  yellow;\n",
       "        }    #T_2e05285a_c544_11eb_86d5_acd5648baa3crow0_col3 {\n",
       "            background-color:  yellow;\n",
       "        }    #T_2e05285a_c544_11eb_86d5_acd5648baa3crow0_col4 {\n",
       "            background-color:  yellow;\n",
       "        }    #T_2e05285a_c544_11eb_86d5_acd5648baa3crow0_col5 {\n",
       "            background-color:  yellow;\n",
       "        }    #T_2e05285a_c544_11eb_86d5_acd5648baa3crow3_col6 {\n",
       "            background-color:  yellow;\n",
       "        }    #T_2e05285a_c544_11eb_86d5_acd5648baa3crow4_col7 {\n",
       "            background-color:  yellow;\n",
       "        }    #T_2e05285a_c544_11eb_86d5_acd5648baa3crow4_col8 {\n",
       "            background-color:  yellow;\n",
       "        }    #T_2e05285a_c544_11eb_86d5_acd5648baa3crow4_col9 {\n",
       "            background-color:  yellow;\n",
       "        }    #T_2e05285a_c544_11eb_86d5_acd5648baa3crow5_col10 {\n",
       "            background-color:  yellow;\n",
       "        }</style><table id=\"T_2e05285a_c544_11eb_86d5_acd5648baa3c\" ><thead>    <tr>        <th class=\"index_name level0\" >MonthlyFee</th>        <th class=\"col_heading level0 col0\" >(10, 20]</th>        <th class=\"col_heading level0 col1\" >(20, 30]</th>        <th class=\"col_heading level0 col2\" >(30, 40]</th>        <th class=\"col_heading level0 col3\" >(40, 50]</th>        <th class=\"col_heading level0 col4\" >(50, 60]</th>        <th class=\"col_heading level0 col5\" >(60, 70]</th>        <th class=\"col_heading level0 col6\" >(70, 80]</th>        <th class=\"col_heading level0 col7\" >(80, 90]</th>        <th class=\"col_heading level0 col8\" >(90, 100]</th>        <th class=\"col_heading level0 col9\" >(100, 110]</th>        <th class=\"col_heading level0 col10\" >(110, 120]</th>    </tr>    <tr>        <th class=\"index_name level0\" >DataAmount</th>        <th class=\"blank\" ></th>        <th class=\"blank\" ></th>        <th class=\"blank\" ></th>        <th class=\"blank\" ></th>        <th class=\"blank\" ></th>        <th class=\"blank\" ></th>        <th class=\"blank\" ></th>        <th class=\"blank\" ></th>        <th class=\"blank\" ></th>        <th class=\"blank\" ></th>        <th class=\"blank\" ></th>    </tr></thead><tbody>\n",
       "                <tr>\n",
       "                        <th id=\"T_2e05285a_c544_11eb_86d5_acd5648baa3clevel0_row0\" class=\"row_heading level0 row0\" >(-1, 0]</th>\n",
       "                        <td id=\"T_2e05285a_c544_11eb_86d5_acd5648baa3crow0_col0\" class=\"data row0 col0\" >6</td>\n",
       "                        <td id=\"T_2e05285a_c544_11eb_86d5_acd5648baa3crow0_col1\" class=\"data row0 col1\" >74</td>\n",
       "                        <td id=\"T_2e05285a_c544_11eb_86d5_acd5648baa3crow0_col2\" class=\"data row0 col2\" >336</td>\n",
       "                        <td id=\"T_2e05285a_c544_11eb_86d5_acd5648baa3crow0_col3\" class=\"data row0 col3\" >655</td>\n",
       "                        <td id=\"T_2e05285a_c544_11eb_86d5_acd5648baa3crow0_col4\" class=\"data row0 col4\" >525</td>\n",
       "                        <td id=\"T_2e05285a_c544_11eb_86d5_acd5648baa3crow0_col5\" class=\"data row0 col5\" >184</td>\n",
       "                        <td id=\"T_2e05285a_c544_11eb_86d5_acd5648baa3crow0_col6\" class=\"data row0 col6\" >31</td>\n",
       "                        <td id=\"T_2e05285a_c544_11eb_86d5_acd5648baa3crow0_col7\" class=\"data row0 col7\" >2</td>\n",
       "                        <td id=\"T_2e05285a_c544_11eb_86d5_acd5648baa3crow0_col8\" class=\"data row0 col8\" >0</td>\n",
       "                        <td id=\"T_2e05285a_c544_11eb_86d5_acd5648baa3crow0_col9\" class=\"data row0 col9\" >0</td>\n",
       "                        <td id=\"T_2e05285a_c544_11eb_86d5_acd5648baa3crow0_col10\" class=\"data row0 col10\" >0</td>\n",
       "            </tr>\n",
       "            <tr>\n",
       "                        <th id=\"T_2e05285a_c544_11eb_86d5_acd5648baa3clevel0_row1\" class=\"row_heading level0 row1\" >(0, 1]</th>\n",
       "                        <td id=\"T_2e05285a_c544_11eb_86d5_acd5648baa3crow1_col0\" class=\"data row1 col0\" >2</td>\n",
       "                        <td id=\"T_2e05285a_c544_11eb_86d5_acd5648baa3crow1_col1\" class=\"data row1 col1\" >11</td>\n",
       "                        <td id=\"T_2e05285a_c544_11eb_86d5_acd5648baa3crow1_col2\" class=\"data row1 col2\" >73</td>\n",
       "                        <td id=\"T_2e05285a_c544_11eb_86d5_acd5648baa3crow1_col3\" class=\"data row1 col3\" >201</td>\n",
       "                        <td id=\"T_2e05285a_c544_11eb_86d5_acd5648baa3crow1_col4\" class=\"data row1 col4\" >223</td>\n",
       "                        <td id=\"T_2e05285a_c544_11eb_86d5_acd5648baa3crow1_col5\" class=\"data row1 col5\" >82</td>\n",
       "                        <td id=\"T_2e05285a_c544_11eb_86d5_acd5648baa3crow1_col6\" class=\"data row1 col6\" >15</td>\n",
       "                        <td id=\"T_2e05285a_c544_11eb_86d5_acd5648baa3crow1_col7\" class=\"data row1 col7\" >0</td>\n",
       "                        <td id=\"T_2e05285a_c544_11eb_86d5_acd5648baa3crow1_col8\" class=\"data row1 col8\" >0</td>\n",
       "                        <td id=\"T_2e05285a_c544_11eb_86d5_acd5648baa3crow1_col9\" class=\"data row1 col9\" >0</td>\n",
       "                        <td id=\"T_2e05285a_c544_11eb_86d5_acd5648baa3crow1_col10\" class=\"data row1 col10\" >0</td>\n",
       "            </tr>\n",
       "            <tr>\n",
       "                        <th id=\"T_2e05285a_c544_11eb_86d5_acd5648baa3clevel0_row2\" class=\"row_heading level0 row2\" >(1, 2]</th>\n",
       "                        <td id=\"T_2e05285a_c544_11eb_86d5_acd5648baa3crow2_col0\" class=\"data row2 col0\" >0</td>\n",
       "                        <td id=\"T_2e05285a_c544_11eb_86d5_acd5648baa3crow2_col1\" class=\"data row2 col1\" >0</td>\n",
       "                        <td id=\"T_2e05285a_c544_11eb_86d5_acd5648baa3crow2_col2\" class=\"data row2 col2\" >3</td>\n",
       "                        <td id=\"T_2e05285a_c544_11eb_86d5_acd5648baa3crow2_col3\" class=\"data row2 col3\" >6</td>\n",
       "                        <td id=\"T_2e05285a_c544_11eb_86d5_acd5648baa3crow2_col4\" class=\"data row2 col4\" >34</td>\n",
       "                        <td id=\"T_2e05285a_c544_11eb_86d5_acd5648baa3crow2_col5\" class=\"data row2 col5\" >52</td>\n",
       "                        <td id=\"T_2e05285a_c544_11eb_86d5_acd5648baa3crow2_col6\" class=\"data row2 col6\" >27</td>\n",
       "                        <td id=\"T_2e05285a_c544_11eb_86d5_acd5648baa3crow2_col7\" class=\"data row2 col7\" >7</td>\n",
       "                        <td id=\"T_2e05285a_c544_11eb_86d5_acd5648baa3crow2_col8\" class=\"data row2 col8\" >2</td>\n",
       "                        <td id=\"T_2e05285a_c544_11eb_86d5_acd5648baa3crow2_col9\" class=\"data row2 col9\" >0</td>\n",
       "                        <td id=\"T_2e05285a_c544_11eb_86d5_acd5648baa3crow2_col10\" class=\"data row2 col10\" >0</td>\n",
       "            </tr>\n",
       "            <tr>\n",
       "                        <th id=\"T_2e05285a_c544_11eb_86d5_acd5648baa3clevel0_row3\" class=\"row_heading level0 row3\" >(2, 3]</th>\n",
       "                        <td id=\"T_2e05285a_c544_11eb_86d5_acd5648baa3crow3_col0\" class=\"data row3 col0\" >0</td>\n",
       "                        <td id=\"T_2e05285a_c544_11eb_86d5_acd5648baa3crow3_col1\" class=\"data row3 col1\" >0</td>\n",
       "                        <td id=\"T_2e05285a_c544_11eb_86d5_acd5648baa3crow3_col2\" class=\"data row3 col2\" >1</td>\n",
       "                        <td id=\"T_2e05285a_c544_11eb_86d5_acd5648baa3crow3_col3\" class=\"data row3 col3\" >6</td>\n",
       "                        <td id=\"T_2e05285a_c544_11eb_86d5_acd5648baa3crow3_col4\" class=\"data row3 col4\" >32</td>\n",
       "                        <td id=\"T_2e05285a_c544_11eb_86d5_acd5648baa3crow3_col5\" class=\"data row3 col5\" >123</td>\n",
       "                        <td id=\"T_2e05285a_c544_11eb_86d5_acd5648baa3crow3_col6\" class=\"data row3 col6\" >147</td>\n",
       "                        <td id=\"T_2e05285a_c544_11eb_86d5_acd5648baa3crow3_col7\" class=\"data row3 col7\" >93</td>\n",
       "                        <td id=\"T_2e05285a_c544_11eb_86d5_acd5648baa3crow3_col8\" class=\"data row3 col8\" >30</td>\n",
       "                        <td id=\"T_2e05285a_c544_11eb_86d5_acd5648baa3crow3_col9\" class=\"data row3 col9\" >1</td>\n",
       "                        <td id=\"T_2e05285a_c544_11eb_86d5_acd5648baa3crow3_col10\" class=\"data row3 col10\" >0</td>\n",
       "            </tr>\n",
       "            <tr>\n",
       "                        <th id=\"T_2e05285a_c544_11eb_86d5_acd5648baa3clevel0_row4\" class=\"row_heading level0 row4\" >(3, 4]</th>\n",
       "                        <td id=\"T_2e05285a_c544_11eb_86d5_acd5648baa3crow4_col0\" class=\"data row4 col0\" >0</td>\n",
       "                        <td id=\"T_2e05285a_c544_11eb_86d5_acd5648baa3crow4_col1\" class=\"data row4 col1\" >0</td>\n",
       "                        <td id=\"T_2e05285a_c544_11eb_86d5_acd5648baa3crow4_col2\" class=\"data row4 col2\" >0</td>\n",
       "                        <td id=\"T_2e05285a_c544_11eb_86d5_acd5648baa3crow4_col3\" class=\"data row4 col3\" >0</td>\n",
       "                        <td id=\"T_2e05285a_c544_11eb_86d5_acd5648baa3crow4_col4\" class=\"data row4 col4\" >3</td>\n",
       "                        <td id=\"T_2e05285a_c544_11eb_86d5_acd5648baa3crow4_col5\" class=\"data row4 col5\" >41</td>\n",
       "                        <td id=\"T_2e05285a_c544_11eb_86d5_acd5648baa3crow4_col6\" class=\"data row4 col6\" >88</td>\n",
       "                        <td id=\"T_2e05285a_c544_11eb_86d5_acd5648baa3crow4_col7\" class=\"data row4 col7\" >103</td>\n",
       "                        <td id=\"T_2e05285a_c544_11eb_86d5_acd5648baa3crow4_col8\" class=\"data row4 col8\" >54</td>\n",
       "                        <td id=\"T_2e05285a_c544_11eb_86d5_acd5648baa3crow4_col9\" class=\"data row4 col9\" >18</td>\n",
       "                        <td id=\"T_2e05285a_c544_11eb_86d5_acd5648baa3crow4_col10\" class=\"data row4 col10\" >0</td>\n",
       "            </tr>\n",
       "            <tr>\n",
       "                        <th id=\"T_2e05285a_c544_11eb_86d5_acd5648baa3clevel0_row5\" class=\"row_heading level0 row5\" >(4, 5]</th>\n",
       "                        <td id=\"T_2e05285a_c544_11eb_86d5_acd5648baa3crow5_col0\" class=\"data row5 col0\" >0</td>\n",
       "                        <td id=\"T_2e05285a_c544_11eb_86d5_acd5648baa3crow5_col1\" class=\"data row5 col1\" >0</td>\n",
       "                        <td id=\"T_2e05285a_c544_11eb_86d5_acd5648baa3crow5_col2\" class=\"data row5 col2\" >0</td>\n",
       "                        <td id=\"T_2e05285a_c544_11eb_86d5_acd5648baa3crow5_col3\" class=\"data row5 col3\" >0</td>\n",
       "                        <td id=\"T_2e05285a_c544_11eb_86d5_acd5648baa3crow5_col4\" class=\"data row5 col4\" >0</td>\n",
       "                        <td id=\"T_2e05285a_c544_11eb_86d5_acd5648baa3crow5_col5\" class=\"data row5 col5\" >0</td>\n",
       "                        <td id=\"T_2e05285a_c544_11eb_86d5_acd5648baa3crow5_col6\" class=\"data row5 col6\" >4</td>\n",
       "                        <td id=\"T_2e05285a_c544_11eb_86d5_acd5648baa3crow5_col7\" class=\"data row5 col7\" >9</td>\n",
       "                        <td id=\"T_2e05285a_c544_11eb_86d5_acd5648baa3crow5_col8\" class=\"data row5 col8\" >16</td>\n",
       "                        <td id=\"T_2e05285a_c544_11eb_86d5_acd5648baa3crow5_col9\" class=\"data row5 col9\" >11</td>\n",
       "                        <td id=\"T_2e05285a_c544_11eb_86d5_acd5648baa3crow5_col10\" class=\"data row5 col10\" >1</td>\n",
       "            </tr>\n",
       "            <tr>\n",
       "                        <th id=\"T_2e05285a_c544_11eb_86d5_acd5648baa3clevel0_row6\" class=\"row_heading level0 row6\" >(5, 6]</th>\n",
       "                        <td id=\"T_2e05285a_c544_11eb_86d5_acd5648baa3crow6_col0\" class=\"data row6 col0\" >0</td>\n",
       "                        <td id=\"T_2e05285a_c544_11eb_86d5_acd5648baa3crow6_col1\" class=\"data row6 col1\" >0</td>\n",
       "                        <td id=\"T_2e05285a_c544_11eb_86d5_acd5648baa3crow6_col2\" class=\"data row6 col2\" >0</td>\n",
       "                        <td id=\"T_2e05285a_c544_11eb_86d5_acd5648baa3crow6_col3\" class=\"data row6 col3\" >0</td>\n",
       "                        <td id=\"T_2e05285a_c544_11eb_86d5_acd5648baa3crow6_col4\" class=\"data row6 col4\" >0</td>\n",
       "                        <td id=\"T_2e05285a_c544_11eb_86d5_acd5648baa3crow6_col5\" class=\"data row6 col5\" >0</td>\n",
       "                        <td id=\"T_2e05285a_c544_11eb_86d5_acd5648baa3crow6_col6\" class=\"data row6 col6\" >0</td>\n",
       "                        <td id=\"T_2e05285a_c544_11eb_86d5_acd5648baa3crow6_col7\" class=\"data row6 col7\" >0</td>\n",
       "                        <td id=\"T_2e05285a_c544_11eb_86d5_acd5648baa3crow6_col8\" class=\"data row6 col8\" >0</td>\n",
       "                        <td id=\"T_2e05285a_c544_11eb_86d5_acd5648baa3crow6_col9\" class=\"data row6 col9\" >1</td>\n",
       "                        <td id=\"T_2e05285a_c544_11eb_86d5_acd5648baa3crow6_col10\" class=\"data row6 col10\" >0</td>\n",
       "            </tr>\n",
       "    </tbody></table>"
      ],
      "text/plain": [
       "<pandas.io.formats.style.Styler at 0x2071b3e29c8>"
      ]
     },
     "execution_count": 9,
     "metadata": {},
     "output_type": "execute_result"
    }
   ],
   "source": [
    "(\n",
    "telco.reset_index().pivot_table(index = pd.cut(telco.DataAmount, list(range(-1,7))),\n",
    "                         columns = pd.cut(telco.MonthlyFee, list(range(10,130,10))),\n",
    "                         values = 'index',\n",
    "                         aggfunc = 'count')\n",
    "    .fillna(0)\n",
    "    .astype(int)\n",
    "    .style.highlight_max(axis=0)\n",
    ")"
   ]
  },
  {
   "cell_type": "markdown",
   "metadata": {},
   "source": [
    "#### 데이터사용량과 월평균요금의 월평균전화량 분포표\n",
    "월평균전화량 분포를 보니 데이터를 사용하지 않는 사람들은 전화량이 많은 것을 볼 수 있습니다."
   ]
  },
  {
   "cell_type": "code",
   "execution_count": 9,
   "metadata": {},
   "outputs": [
    {
     "data": {
      "text/html": [
       "<style  type=\"text/css\" >\n",
       "    #T_a282d72c_ce93_11eb_a7e6_acd5648baa3crow0_col0 {\n",
       "            background-color:  yellow;\n",
       "        }    #T_a282d72c_ce93_11eb_a7e6_acd5648baa3crow0_col1 {\n",
       "            background-color:  yellow;\n",
       "        }    #T_a282d72c_ce93_11eb_a7e6_acd5648baa3crow0_col2 {\n",
       "            background-color:  yellow;\n",
       "        }    #T_a282d72c_ce93_11eb_a7e6_acd5648baa3crow0_col3 {\n",
       "            background-color:  yellow;\n",
       "        }    #T_a282d72c_ce93_11eb_a7e6_acd5648baa3crow0_col4 {\n",
       "            background-color:  yellow;\n",
       "        }    #T_a282d72c_ce93_11eb_a7e6_acd5648baa3crow0_col5 {\n",
       "            background-color:  yellow;\n",
       "        }    #T_a282d72c_ce93_11eb_a7e6_acd5648baa3crow0_col6 {\n",
       "            background-color:  yellow;\n",
       "        }    #T_a282d72c_ce93_11eb_a7e6_acd5648baa3crow0_col7 {\n",
       "            background-color:  yellow;\n",
       "        }    #T_a282d72c_ce93_11eb_a7e6_acd5648baa3crow2_col8 {\n",
       "            background-color:  yellow;\n",
       "        }    #T_a282d72c_ce93_11eb_a7e6_acd5648baa3crow3_col9 {\n",
       "            background-color:  yellow;\n",
       "        }    #T_a282d72c_ce93_11eb_a7e6_acd5648baa3crow5_col10 {\n",
       "            background-color:  yellow;\n",
       "        }</style><table id=\"T_a282d72c_ce93_11eb_a7e6_acd5648baa3c\" ><thead>    <tr>        <th class=\"index_name level0\" >MonthlyFee</th>        <th class=\"col_heading level0 col0\" >(10, 20]</th>        <th class=\"col_heading level0 col1\" >(20, 30]</th>        <th class=\"col_heading level0 col2\" >(30, 40]</th>        <th class=\"col_heading level0 col3\" >(40, 50]</th>        <th class=\"col_heading level0 col4\" >(50, 60]</th>        <th class=\"col_heading level0 col5\" >(60, 70]</th>        <th class=\"col_heading level0 col6\" >(70, 80]</th>        <th class=\"col_heading level0 col7\" >(80, 90]</th>        <th class=\"col_heading level0 col8\" >(90, 100]</th>        <th class=\"col_heading level0 col9\" >(100, 110]</th>        <th class=\"col_heading level0 col10\" >(110, 120]</th>    </tr>    <tr>        <th class=\"index_name level0\" >DataAmount</th>        <th class=\"blank\" ></th>        <th class=\"blank\" ></th>        <th class=\"blank\" ></th>        <th class=\"blank\" ></th>        <th class=\"blank\" ></th>        <th class=\"blank\" ></th>        <th class=\"blank\" ></th>        <th class=\"blank\" ></th>        <th class=\"blank\" ></th>        <th class=\"blank\" ></th>        <th class=\"blank\" ></th>    </tr></thead><tbody>\n",
       "                <tr>\n",
       "                        <th id=\"T_a282d72c_ce93_11eb_a7e6_acd5648baa3clevel0_row0\" class=\"row_heading level0 row0\" >(-1, 0]</th>\n",
       "                        <td id=\"T_a282d72c_ce93_11eb_a7e6_acd5648baa3crow0_col0\" class=\"data row0 col0\" >30</td>\n",
       "                        <td id=\"T_a282d72c_ce93_11eb_a7e6_acd5648baa3crow0_col1\" class=\"data row0 col1\" >81</td>\n",
       "                        <td id=\"T_a282d72c_ce93_11eb_a7e6_acd5648baa3crow0_col2\" class=\"data row0 col2\" >123</td>\n",
       "                        <td id=\"T_a282d72c_ce93_11eb_a7e6_acd5648baa3crow0_col3\" class=\"data row0 col3\" >168</td>\n",
       "                        <td id=\"T_a282d72c_ce93_11eb_a7e6_acd5648baa3crow0_col4\" class=\"data row0 col4\" >212</td>\n",
       "                        <td id=\"T_a282d72c_ce93_11eb_a7e6_acd5648baa3crow0_col5\" class=\"data row0 col5\" >259</td>\n",
       "                        <td id=\"T_a282d72c_ce93_11eb_a7e6_acd5648baa3crow0_col6\" class=\"data row0 col6\" >303</td>\n",
       "                        <td id=\"T_a282d72c_ce93_11eb_a7e6_acd5648baa3crow0_col7\" class=\"data row0 col7\" >339</td>\n",
       "                        <td id=\"T_a282d72c_ce93_11eb_a7e6_acd5648baa3crow0_col8\" class=\"data row0 col8\" >0</td>\n",
       "                        <td id=\"T_a282d72c_ce93_11eb_a7e6_acd5648baa3crow0_col9\" class=\"data row0 col9\" >0</td>\n",
       "                        <td id=\"T_a282d72c_ce93_11eb_a7e6_acd5648baa3crow0_col10\" class=\"data row0 col10\" >0</td>\n",
       "            </tr>\n",
       "            <tr>\n",
       "                        <th id=\"T_a282d72c_ce93_11eb_a7e6_acd5648baa3clevel0_row1\" class=\"row_heading level0 row1\" >(0, 1]</th>\n",
       "                        <td id=\"T_a282d72c_ce93_11eb_a7e6_acd5648baa3crow1_col0\" class=\"data row1 col0\" >3</td>\n",
       "                        <td id=\"T_a282d72c_ce93_11eb_a7e6_acd5648baa3crow1_col1\" class=\"data row1 col1\" >54</td>\n",
       "                        <td id=\"T_a282d72c_ce93_11eb_a7e6_acd5648baa3crow1_col2\" class=\"data row1 col2\" >109</td>\n",
       "                        <td id=\"T_a282d72c_ce93_11eb_a7e6_acd5648baa3crow1_col3\" class=\"data row1 col3\" >152</td>\n",
       "                        <td id=\"T_a282d72c_ce93_11eb_a7e6_acd5648baa3crow1_col4\" class=\"data row1 col4\" >197</td>\n",
       "                        <td id=\"T_a282d72c_ce93_11eb_a7e6_acd5648baa3crow1_col5\" class=\"data row1 col5\" >245</td>\n",
       "                        <td id=\"T_a282d72c_ce93_11eb_a7e6_acd5648baa3crow1_col6\" class=\"data row1 col6\" >283</td>\n",
       "                        <td id=\"T_a282d72c_ce93_11eb_a7e6_acd5648baa3crow1_col7\" class=\"data row1 col7\" >0</td>\n",
       "                        <td id=\"T_a282d72c_ce93_11eb_a7e6_acd5648baa3crow1_col8\" class=\"data row1 col8\" >0</td>\n",
       "                        <td id=\"T_a282d72c_ce93_11eb_a7e6_acd5648baa3crow1_col9\" class=\"data row1 col9\" >0</td>\n",
       "                        <td id=\"T_a282d72c_ce93_11eb_a7e6_acd5648baa3crow1_col10\" class=\"data row1 col10\" >0</td>\n",
       "            </tr>\n",
       "            <tr>\n",
       "                        <th id=\"T_a282d72c_ce93_11eb_a7e6_acd5648baa3clevel0_row2\" class=\"row_heading level0 row2\" >(1, 2]</th>\n",
       "                        <td id=\"T_a282d72c_ce93_11eb_a7e6_acd5648baa3crow2_col0\" class=\"data row2 col0\" >0</td>\n",
       "                        <td id=\"T_a282d72c_ce93_11eb_a7e6_acd5648baa3crow2_col1\" class=\"data row2 col1\" >0</td>\n",
       "                        <td id=\"T_a282d72c_ce93_11eb_a7e6_acd5648baa3crow2_col2\" class=\"data row2 col2\" >38</td>\n",
       "                        <td id=\"T_a282d72c_ce93_11eb_a7e6_acd5648baa3crow2_col3\" class=\"data row2 col3\" >91</td>\n",
       "                        <td id=\"T_a282d72c_ce93_11eb_a7e6_acd5648baa3crow2_col4\" class=\"data row2 col4\" >140</td>\n",
       "                        <td id=\"T_a282d72c_ce93_11eb_a7e6_acd5648baa3crow2_col5\" class=\"data row2 col5\" >179</td>\n",
       "                        <td id=\"T_a282d72c_ce93_11eb_a7e6_acd5648baa3crow2_col6\" class=\"data row2 col6\" >215</td>\n",
       "                        <td id=\"T_a282d72c_ce93_11eb_a7e6_acd5648baa3crow2_col7\" class=\"data row2 col7\" >256</td>\n",
       "                        <td id=\"T_a282d72c_ce93_11eb_a7e6_acd5648baa3crow2_col8\" class=\"data row2 col8\" >315</td>\n",
       "                        <td id=\"T_a282d72c_ce93_11eb_a7e6_acd5648baa3crow2_col9\" class=\"data row2 col9\" >0</td>\n",
       "                        <td id=\"T_a282d72c_ce93_11eb_a7e6_acd5648baa3crow2_col10\" class=\"data row2 col10\" >0</td>\n",
       "            </tr>\n",
       "            <tr>\n",
       "                        <th id=\"T_a282d72c_ce93_11eb_a7e6_acd5648baa3clevel0_row3\" class=\"row_heading level0 row3\" >(2, 3]</th>\n",
       "                        <td id=\"T_a282d72c_ce93_11eb_a7e6_acd5648baa3crow3_col0\" class=\"data row3 col0\" >0</td>\n",
       "                        <td id=\"T_a282d72c_ce93_11eb_a7e6_acd5648baa3crow3_col1\" class=\"data row3 col1\" >0</td>\n",
       "                        <td id=\"T_a282d72c_ce93_11eb_a7e6_acd5648baa3crow3_col2\" class=\"data row3 col2\" >19</td>\n",
       "                        <td id=\"T_a282d72c_ce93_11eb_a7e6_acd5648baa3crow3_col3\" class=\"data row3 col3\" >47</td>\n",
       "                        <td id=\"T_a282d72c_ce93_11eb_a7e6_acd5648baa3crow3_col4\" class=\"data row3 col4\" >106</td>\n",
       "                        <td id=\"T_a282d72c_ce93_11eb_a7e6_acd5648baa3crow3_col5\" class=\"data row3 col5\" >145</td>\n",
       "                        <td id=\"T_a282d72c_ce93_11eb_a7e6_acd5648baa3crow3_col6\" class=\"data row3 col6\" >189</td>\n",
       "                        <td id=\"T_a282d72c_ce93_11eb_a7e6_acd5648baa3crow3_col7\" class=\"data row3 col7\" >227</td>\n",
       "                        <td id=\"T_a282d72c_ce93_11eb_a7e6_acd5648baa3crow3_col8\" class=\"data row3 col8\" >260</td>\n",
       "                        <td id=\"T_a282d72c_ce93_11eb_a7e6_acd5648baa3crow3_col9\" class=\"data row3 col9\" >286</td>\n",
       "                        <td id=\"T_a282d72c_ce93_11eb_a7e6_acd5648baa3crow3_col10\" class=\"data row3 col10\" >0</td>\n",
       "            </tr>\n",
       "            <tr>\n",
       "                        <th id=\"T_a282d72c_ce93_11eb_a7e6_acd5648baa3clevel0_row4\" class=\"row_heading level0 row4\" >(3, 4]</th>\n",
       "                        <td id=\"T_a282d72c_ce93_11eb_a7e6_acd5648baa3crow4_col0\" class=\"data row4 col0\" >0</td>\n",
       "                        <td id=\"T_a282d72c_ce93_11eb_a7e6_acd5648baa3crow4_col1\" class=\"data row4 col1\" >0</td>\n",
       "                        <td id=\"T_a282d72c_ce93_11eb_a7e6_acd5648baa3crow4_col2\" class=\"data row4 col2\" >0</td>\n",
       "                        <td id=\"T_a282d72c_ce93_11eb_a7e6_acd5648baa3crow4_col3\" class=\"data row4 col3\" >0</td>\n",
       "                        <td id=\"T_a282d72c_ce93_11eb_a7e6_acd5648baa3crow4_col4\" class=\"data row4 col4\" >52</td>\n",
       "                        <td id=\"T_a282d72c_ce93_11eb_a7e6_acd5648baa3crow4_col5\" class=\"data row4 col5\" >104</td>\n",
       "                        <td id=\"T_a282d72c_ce93_11eb_a7e6_acd5648baa3crow4_col6\" class=\"data row4 col6\" >150</td>\n",
       "                        <td id=\"T_a282d72c_ce93_11eb_a7e6_acd5648baa3crow4_col7\" class=\"data row4 col7\" >191</td>\n",
       "                        <td id=\"T_a282d72c_ce93_11eb_a7e6_acd5648baa3crow4_col8\" class=\"data row4 col8\" >226</td>\n",
       "                        <td id=\"T_a282d72c_ce93_11eb_a7e6_acd5648baa3crow4_col9\" class=\"data row4 col9\" >277</td>\n",
       "                        <td id=\"T_a282d72c_ce93_11eb_a7e6_acd5648baa3crow4_col10\" class=\"data row4 col10\" >0</td>\n",
       "            </tr>\n",
       "            <tr>\n",
       "                        <th id=\"T_a282d72c_ce93_11eb_a7e6_acd5648baa3clevel0_row5\" class=\"row_heading level0 row5\" >(4, 5]</th>\n",
       "                        <td id=\"T_a282d72c_ce93_11eb_a7e6_acd5648baa3crow5_col0\" class=\"data row5 col0\" >0</td>\n",
       "                        <td id=\"T_a282d72c_ce93_11eb_a7e6_acd5648baa3crow5_col1\" class=\"data row5 col1\" >0</td>\n",
       "                        <td id=\"T_a282d72c_ce93_11eb_a7e6_acd5648baa3crow5_col2\" class=\"data row5 col2\" >0</td>\n",
       "                        <td id=\"T_a282d72c_ce93_11eb_a7e6_acd5648baa3crow5_col3\" class=\"data row5 col3\" >0</td>\n",
       "                        <td id=\"T_a282d72c_ce93_11eb_a7e6_acd5648baa3crow5_col4\" class=\"data row5 col4\" >0</td>\n",
       "                        <td id=\"T_a282d72c_ce93_11eb_a7e6_acd5648baa3crow5_col5\" class=\"data row5 col5\" >0</td>\n",
       "                        <td id=\"T_a282d72c_ce93_11eb_a7e6_acd5648baa3crow5_col6\" class=\"data row5 col6\" >115</td>\n",
       "                        <td id=\"T_a282d72c_ce93_11eb_a7e6_acd5648baa3crow5_col7\" class=\"data row5 col7\" >141</td>\n",
       "                        <td id=\"T_a282d72c_ce93_11eb_a7e6_acd5648baa3crow5_col8\" class=\"data row5 col8\" >196</td>\n",
       "                        <td id=\"T_a282d72c_ce93_11eb_a7e6_acd5648baa3crow5_col9\" class=\"data row5 col9\" >230</td>\n",
       "                        <td id=\"T_a282d72c_ce93_11eb_a7e6_acd5648baa3crow5_col10\" class=\"data row5 col10\" >268</td>\n",
       "            </tr>\n",
       "            <tr>\n",
       "                        <th id=\"T_a282d72c_ce93_11eb_a7e6_acd5648baa3clevel0_row6\" class=\"row_heading level0 row6\" >(5, 6]</th>\n",
       "                        <td id=\"T_a282d72c_ce93_11eb_a7e6_acd5648baa3crow6_col0\" class=\"data row6 col0\" >0</td>\n",
       "                        <td id=\"T_a282d72c_ce93_11eb_a7e6_acd5648baa3crow6_col1\" class=\"data row6 col1\" >0</td>\n",
       "                        <td id=\"T_a282d72c_ce93_11eb_a7e6_acd5648baa3crow6_col2\" class=\"data row6 col2\" >0</td>\n",
       "                        <td id=\"T_a282d72c_ce93_11eb_a7e6_acd5648baa3crow6_col3\" class=\"data row6 col3\" >0</td>\n",
       "                        <td id=\"T_a282d72c_ce93_11eb_a7e6_acd5648baa3crow6_col4\" class=\"data row6 col4\" >0</td>\n",
       "                        <td id=\"T_a282d72c_ce93_11eb_a7e6_acd5648baa3crow6_col5\" class=\"data row6 col5\" >0</td>\n",
       "                        <td id=\"T_a282d72c_ce93_11eb_a7e6_acd5648baa3crow6_col6\" class=\"data row6 col6\" >0</td>\n",
       "                        <td id=\"T_a282d72c_ce93_11eb_a7e6_acd5648baa3crow6_col7\" class=\"data row6 col7\" >0</td>\n",
       "                        <td id=\"T_a282d72c_ce93_11eb_a7e6_acd5648baa3crow6_col8\" class=\"data row6 col8\" >0</td>\n",
       "                        <td id=\"T_a282d72c_ce93_11eb_a7e6_acd5648baa3crow6_col9\" class=\"data row6 col9\" >196</td>\n",
       "                        <td id=\"T_a282d72c_ce93_11eb_a7e6_acd5648baa3crow6_col10\" class=\"data row6 col10\" >0</td>\n",
       "            </tr>\n",
       "    </tbody></table>"
      ],
      "text/plain": [
       "<pandas.io.formats.style.Styler at 0x2114d2b2bc8>"
      ]
     },
     "execution_count": 9,
     "metadata": {},
     "output_type": "execute_result"
    }
   ],
   "source": [
    "(\n",
    "telco.reset_index().pivot_table(index = pd.cut(telco.DataAmount, list(range(-1,7))),\n",
    "                         columns = pd.cut(telco.MonthlyFee, list(range(10,130,10))),\n",
    "                         values = 'CalMins',\n",
    "                         aggfunc = 'mean')\n",
    "    .fillna(0)\n",
    "    .astype(int)\n",
    "    .style.highlight_max(axis=0)\n",
    ")"
   ]
  },
  {
   "cell_type": "markdown",
   "metadata": {},
   "source": [
    "#### 가입 해지 별로 갱신 여부\n",
    "가입 갱신이 가장 많고 갱신된 사람 중 해지한 사람이 많다."
   ]
  },
  {
   "cell_type": "code",
   "execution_count": 21,
   "metadata": {},
   "outputs": [
    {
     "data": {
      "text/html": [
       "<div>\n",
       "<style scoped>\n",
       "    .dataframe tbody tr th:only-of-type {\n",
       "        vertical-align: middle;\n",
       "    }\n",
       "\n",
       "    .dataframe tbody tr th {\n",
       "        vertical-align: top;\n",
       "    }\n",
       "\n",
       "    .dataframe thead th {\n",
       "        text-align: right;\n",
       "    }\n",
       "</style>\n",
       "<table border=\"1\" class=\"dataframe\">\n",
       "  <thead>\n",
       "    <tr style=\"text-align: right;\">\n",
       "      <th>NewContract</th>\n",
       "      <th>비갱신</th>\n",
       "      <th>갱신</th>\n",
       "    </tr>\n",
       "    <tr>\n",
       "      <th>Leave</th>\n",
       "      <th></th>\n",
       "      <th></th>\n",
       "    </tr>\n",
       "  </thead>\n",
       "  <tbody>\n",
       "    <tr>\n",
       "      <th>가입</th>\n",
       "      <td>186</td>\n",
       "      <td>2664</td>\n",
       "    </tr>\n",
       "    <tr>\n",
       "      <th>해지</th>\n",
       "      <td>137</td>\n",
       "      <td>346</td>\n",
       "    </tr>\n",
       "  </tbody>\n",
       "</table>\n",
       "</div>"
      ],
      "text/plain": [
       "NewContract  비갱신    갱신\n",
       "Leave                 \n",
       "가입           186  2664\n",
       "해지           137   346"
      ]
     },
     "execution_count": 21,
     "metadata": {},
     "output_type": "execute_result"
    }
   ],
   "source": [
    "(\n",
    "telco.reset_index().pivot_table(index = 'Leave',\n",
    "                         columns = 'NewContract',\n",
    "                         values = 'index',\n",
    "                         aggfunc = 'count')\n",
    "    .rename(\n",
    "        index={\n",
    "            0:'가입',\n",
    "            1:'해지'\n",
    "        },\n",
    "        columns={\n",
    "            0:'비갱신',\n",
    "            1:'갱신'})\n",
    ")"
   ]
  },
  {
   "cell_type": "markdown",
   "metadata": {},
   "source": [
    "#### 종합별(데이터요금제사용여부, 가입해지여부, 가입갱신여부)에 따른 월평균전화량 분포표\n",
    "2~4시간에 몰려있음을 알 수 있습니다."
   ]
  },
  {
   "cell_type": "code",
   "execution_count": 19,
   "metadata": {},
   "outputs": [
    {
     "data": {
      "text/html": [
       "<style  type=\"text/css\" >\n",
       "    #T_d5194826_ce06_11eb_bed2_acd5648baa3crow0_col3 {\n",
       "            background-color:  yellow;\n",
       "        }    #T_d5194826_ce06_11eb_bed2_acd5648baa3crow1_col2 {\n",
       "            background-color:  yellow;\n",
       "        }    #T_d5194826_ce06_11eb_bed2_acd5648baa3crow2_col2 {\n",
       "            background-color:  yellow;\n",
       "        }    #T_d5194826_ce06_11eb_bed2_acd5648baa3crow3_col4 {\n",
       "            background-color:  yellow;\n",
       "        }    #T_d5194826_ce06_11eb_bed2_acd5648baa3crow4_col2 {\n",
       "            background-color:  yellow;\n",
       "        }    #T_d5194826_ce06_11eb_bed2_acd5648baa3crow5_col3 {\n",
       "            background-color:  yellow;\n",
       "        }    #T_d5194826_ce06_11eb_bed2_acd5648baa3crow6_col2 {\n",
       "            background-color:  yellow;\n",
       "        }    #T_d5194826_ce06_11eb_bed2_acd5648baa3crow6_col3 {\n",
       "            background-color:  yellow;\n",
       "        }    #T_d5194826_ce06_11eb_bed2_acd5648baa3crow7_col2 {\n",
       "            background-color:  yellow;\n",
       "        }</style><table id=\"T_d5194826_ce06_11eb_bed2_acd5648baa3c\" ><thead>    <tr>        <th class=\"blank\" ></th>        <th class=\"blank\" ></th>        <th class=\"index_name level0\" >CalMins</th>        <th class=\"col_heading level0 col0\" >(0, 60]</th>        <th class=\"col_heading level0 col1\" >(60, 120]</th>        <th class=\"col_heading level0 col2\" >(120, 180]</th>        <th class=\"col_heading level0 col3\" >(180, 240]</th>        <th class=\"col_heading level0 col4\" >(240, 300]</th>        <th class=\"col_heading level0 col5\" >(300, 360]</th>    </tr>    <tr>        <th class=\"index_name level0\" >IsData</th>        <th class=\"index_name level1\" >Leave</th>        <th class=\"index_name level2\" >NewContract</th>        <th class=\"blank\" ></th>        <th class=\"blank\" ></th>        <th class=\"blank\" ></th>        <th class=\"blank\" ></th>        <th class=\"blank\" ></th>        <th class=\"blank\" ></th>    </tr></thead><tbody>\n",
       "                <tr>\n",
       "                        <th id=\"T_d5194826_ce06_11eb_bed2_acd5648baa3clevel0_row0\" class=\"row_heading level0 row0\" rowspan=4>0</th>\n",
       "                        <th id=\"T_d5194826_ce06_11eb_bed2_acd5648baa3clevel1_row0\" class=\"row_heading level1 row0\" rowspan=2>0</th>\n",
       "                        <th id=\"T_d5194826_ce06_11eb_bed2_acd5648baa3clevel2_row0\" class=\"row_heading level2 row0\" >0</th>\n",
       "                        <td id=\"T_d5194826_ce06_11eb_bed2_acd5648baa3crow0_col0\" class=\"data row0 col0\" >2</td>\n",
       "                        <td id=\"T_d5194826_ce06_11eb_bed2_acd5648baa3crow0_col1\" class=\"data row0 col1\" >13</td>\n",
       "                        <td id=\"T_d5194826_ce06_11eb_bed2_acd5648baa3crow0_col2\" class=\"data row0 col2\" >45</td>\n",
       "                        <td id=\"T_d5194826_ce06_11eb_bed2_acd5648baa3crow0_col3\" class=\"data row0 col3\" >49</td>\n",
       "                        <td id=\"T_d5194826_ce06_11eb_bed2_acd5648baa3crow0_col4\" class=\"data row0 col4\" >21</td>\n",
       "                        <td id=\"T_d5194826_ce06_11eb_bed2_acd5648baa3crow0_col5\" class=\"data row0 col5\" >0</td>\n",
       "            </tr>\n",
       "            <tr>\n",
       "                                        <th id=\"T_d5194826_ce06_11eb_bed2_acd5648baa3clevel2_row1\" class=\"row_heading level2 row1\" >1</th>\n",
       "                        <td id=\"T_d5194826_ce06_11eb_bed2_acd5648baa3crow1_col0\" class=\"data row1 col0\" >33</td>\n",
       "                        <td id=\"T_d5194826_ce06_11eb_bed2_acd5648baa3crow1_col1\" class=\"data row1 col1\" >235</td>\n",
       "                        <td id=\"T_d5194826_ce06_11eb_bed2_acd5648baa3crow1_col2\" class=\"data row1 col2\" >749</td>\n",
       "                        <td id=\"T_d5194826_ce06_11eb_bed2_acd5648baa3crow1_col3\" class=\"data row1 col3\" >726</td>\n",
       "                        <td id=\"T_d5194826_ce06_11eb_bed2_acd5648baa3crow1_col4\" class=\"data row1 col4\" >131</td>\n",
       "                        <td id=\"T_d5194826_ce06_11eb_bed2_acd5648baa3crow1_col5\" class=\"data row1 col5\" >3</td>\n",
       "            </tr>\n",
       "            <tr>\n",
       "                                <th id=\"T_d5194826_ce06_11eb_bed2_acd5648baa3clevel1_row2\" class=\"row_heading level1 row2\" rowspan=2>1</th>\n",
       "                        <th id=\"T_d5194826_ce06_11eb_bed2_acd5648baa3clevel2_row2\" class=\"row_heading level2 row2\" >0</th>\n",
       "                        <td id=\"T_d5194826_ce06_11eb_bed2_acd5648baa3crow2_col0\" class=\"data row2 col0\" >4</td>\n",
       "                        <td id=\"T_d5194826_ce06_11eb_bed2_acd5648baa3crow2_col1\" class=\"data row2 col1\" >5</td>\n",
       "                        <td id=\"T_d5194826_ce06_11eb_bed2_acd5648baa3crow2_col2\" class=\"data row2 col2\" >36</td>\n",
       "                        <td id=\"T_d5194826_ce06_11eb_bed2_acd5648baa3crow2_col3\" class=\"data row2 col3\" >29</td>\n",
       "                        <td id=\"T_d5194826_ce06_11eb_bed2_acd5648baa3crow2_col4\" class=\"data row2 col4\" >24</td>\n",
       "                        <td id=\"T_d5194826_ce06_11eb_bed2_acd5648baa3crow2_col5\" class=\"data row2 col5\" >3</td>\n",
       "            </tr>\n",
       "            <tr>\n",
       "                                        <th id=\"T_d5194826_ce06_11eb_bed2_acd5648baa3clevel2_row3\" class=\"row_heading level2 row3\" >1</th>\n",
       "                        <td id=\"T_d5194826_ce06_11eb_bed2_acd5648baa3crow3_col0\" class=\"data row3 col0\" >1</td>\n",
       "                        <td id=\"T_d5194826_ce06_11eb_bed2_acd5648baa3crow3_col1\" class=\"data row3 col1\" >30</td>\n",
       "                        <td id=\"T_d5194826_ce06_11eb_bed2_acd5648baa3crow3_col2\" class=\"data row3 col2\" >70</td>\n",
       "                        <td id=\"T_d5194826_ce06_11eb_bed2_acd5648baa3crow3_col3\" class=\"data row3 col3\" >55</td>\n",
       "                        <td id=\"T_d5194826_ce06_11eb_bed2_acd5648baa3crow3_col4\" class=\"data row3 col4\" >117</td>\n",
       "                        <td id=\"T_d5194826_ce06_11eb_bed2_acd5648baa3crow3_col5\" class=\"data row3 col5\" >28</td>\n",
       "            </tr>\n",
       "            <tr>\n",
       "                        <th id=\"T_d5194826_ce06_11eb_bed2_acd5648baa3clevel0_row4\" class=\"row_heading level0 row4\" rowspan=4>1</th>\n",
       "                        <th id=\"T_d5194826_ce06_11eb_bed2_acd5648baa3clevel1_row4\" class=\"row_heading level1 row4\" rowspan=2>0</th>\n",
       "                        <th id=\"T_d5194826_ce06_11eb_bed2_acd5648baa3clevel2_row4\" class=\"row_heading level2 row4\" >0</th>\n",
       "                        <td id=\"T_d5194826_ce06_11eb_bed2_acd5648baa3crow4_col0\" class=\"data row4 col0\" >0</td>\n",
       "                        <td id=\"T_d5194826_ce06_11eb_bed2_acd5648baa3crow4_col1\" class=\"data row4 col1\" >4</td>\n",
       "                        <td id=\"T_d5194826_ce06_11eb_bed2_acd5648baa3crow4_col2\" class=\"data row4 col2\" >23</td>\n",
       "                        <td id=\"T_d5194826_ce06_11eb_bed2_acd5648baa3crow4_col3\" class=\"data row4 col3\" >22</td>\n",
       "                        <td id=\"T_d5194826_ce06_11eb_bed2_acd5648baa3crow4_col4\" class=\"data row4 col4\" >6</td>\n",
       "                        <td id=\"T_d5194826_ce06_11eb_bed2_acd5648baa3crow4_col5\" class=\"data row4 col5\" >1</td>\n",
       "            </tr>\n",
       "            <tr>\n",
       "                                        <th id=\"T_d5194826_ce06_11eb_bed2_acd5648baa3clevel2_row5\" class=\"row_heading level2 row5\" >1</th>\n",
       "                        <td id=\"T_d5194826_ce06_11eb_bed2_acd5648baa3crow5_col0\" class=\"data row5 col0\" >12</td>\n",
       "                        <td id=\"T_d5194826_ce06_11eb_bed2_acd5648baa3crow5_col1\" class=\"data row5 col1\" >101</td>\n",
       "                        <td id=\"T_d5194826_ce06_11eb_bed2_acd5648baa3crow5_col2\" class=\"data row5 col2\" >270</td>\n",
       "                        <td id=\"T_d5194826_ce06_11eb_bed2_acd5648baa3crow5_col3\" class=\"data row5 col3\" >306</td>\n",
       "                        <td id=\"T_d5194826_ce06_11eb_bed2_acd5648baa3crow5_col4\" class=\"data row5 col4\" >90</td>\n",
       "                        <td id=\"T_d5194826_ce06_11eb_bed2_acd5648baa3crow5_col5\" class=\"data row5 col5\" >7</td>\n",
       "            </tr>\n",
       "            <tr>\n",
       "                                <th id=\"T_d5194826_ce06_11eb_bed2_acd5648baa3clevel1_row6\" class=\"row_heading level1 row6\" rowspan=2>1</th>\n",
       "                        <th id=\"T_d5194826_ce06_11eb_bed2_acd5648baa3clevel2_row6\" class=\"row_heading level2 row6\" >0</th>\n",
       "                        <td id=\"T_d5194826_ce06_11eb_bed2_acd5648baa3crow6_col0\" class=\"data row6 col0\" >0</td>\n",
       "                        <td id=\"T_d5194826_ce06_11eb_bed2_acd5648baa3crow6_col1\" class=\"data row6 col1\" >2</td>\n",
       "                        <td id=\"T_d5194826_ce06_11eb_bed2_acd5648baa3crow6_col2\" class=\"data row6 col2\" >14</td>\n",
       "                        <td id=\"T_d5194826_ce06_11eb_bed2_acd5648baa3crow6_col3\" class=\"data row6 col3\" >14</td>\n",
       "                        <td id=\"T_d5194826_ce06_11eb_bed2_acd5648baa3crow6_col4\" class=\"data row6 col4\" >6</td>\n",
       "                        <td id=\"T_d5194826_ce06_11eb_bed2_acd5648baa3crow6_col5\" class=\"data row6 col5\" >0</td>\n",
       "            </tr>\n",
       "            <tr>\n",
       "                                        <th id=\"T_d5194826_ce06_11eb_bed2_acd5648baa3clevel2_row7\" class=\"row_heading level2 row7\" >1</th>\n",
       "                        <td id=\"T_d5194826_ce06_11eb_bed2_acd5648baa3crow7_col0\" class=\"data row7 col0\" >0</td>\n",
       "                        <td id=\"T_d5194826_ce06_11eb_bed2_acd5648baa3crow7_col1\" class=\"data row7 col1\" >9</td>\n",
       "                        <td id=\"T_d5194826_ce06_11eb_bed2_acd5648baa3crow7_col2\" class=\"data row7 col2\" >21</td>\n",
       "                        <td id=\"T_d5194826_ce06_11eb_bed2_acd5648baa3crow7_col3\" class=\"data row7 col3\" >12</td>\n",
       "                        <td id=\"T_d5194826_ce06_11eb_bed2_acd5648baa3crow7_col4\" class=\"data row7 col4\" >1</td>\n",
       "                        <td id=\"T_d5194826_ce06_11eb_bed2_acd5648baa3crow7_col5\" class=\"data row7 col5\" >1</td>\n",
       "            </tr>\n",
       "    </tbody></table>"
      ],
      "text/plain": [
       "<pandas.io.formats.style.Styler at 0x27fc5681108>"
      ]
     },
     "execution_count": 19,
     "metadata": {},
     "output_type": "execute_result"
    }
   ],
   "source": [
    "(\n",
    "telco.reset_index().pivot_table(index = [telco.IsData, telco.Leave, telco.NewContract],\n",
    "                         columns = pd.cut(telco.CalMins, list(range(0,500,60))),\n",
    "                         values = 'index',\n",
    "                         aggfunc = 'count')\n",
    "    .fillna(0)\n",
    "    .astype(int)\n",
    "    .style.highlight_max(axis=1)\n",
    ")"
   ]
  },
  {
   "cell_type": "markdown",
   "metadata": {},
   "source": [
    "#### 종합별 월평균전화량에 따른 데이터사용량 분포표\n",
    "월평균전화량이 2-4시간에 몰려있음에도 불구하고 데이터사용량은 2-4시간과 다른 시간들이 비슷하고, 다른 시간에 오히려 평균데이터사용량이 많습니다.  \n",
    "데이터사용O 중 해지한 사람들은 갱신한 사람보다 평균데이터사용량이 많습니다. 그리고 전화를 덜 사용합니다."
   ]
  },
  {
   "cell_type": "code",
   "execution_count": 18,
   "metadata": {},
   "outputs": [
    {
     "data": {
      "text/html": [
       "<style  type=\"text/css\" >\n",
       "    #T_32534768_ce95_11eb_bc33_acd5648baa3crow0_col3 {\n",
       "            background-color:  yellow;\n",
       "        }    #T_32534768_ce95_11eb_bc33_acd5648baa3crow1_col5 {\n",
       "            background-color:  yellow;\n",
       "        }    #T_32534768_ce95_11eb_bc33_acd5648baa3crow2_col1 {\n",
       "            background-color:  yellow;\n",
       "        }    #T_32534768_ce95_11eb_bc33_acd5648baa3crow3_col1 {\n",
       "            background-color:  yellow;\n",
       "        }    #T_32534768_ce95_11eb_bc33_acd5648baa3crow4_col4 {\n",
       "            background-color:  yellow;\n",
       "        }    #T_32534768_ce95_11eb_bc33_acd5648baa3crow5_col5 {\n",
       "            background-color:  yellow;\n",
       "        }    #T_32534768_ce95_11eb_bc33_acd5648baa3crow6_col3 {\n",
       "            background-color:  yellow;\n",
       "        }    #T_32534768_ce95_11eb_bc33_acd5648baa3crow7_col2 {\n",
       "            background-color:  yellow;\n",
       "        }</style><table id=\"T_32534768_ce95_11eb_bc33_acd5648baa3c\" ><thead>    <tr>        <th class=\"blank\" ></th>        <th class=\"blank\" ></th>        <th class=\"index_name level0\" >CalMins</th>        <th class=\"col_heading level0 col0\" >(0, 60]</th>        <th class=\"col_heading level0 col1\" >(60, 120]</th>        <th class=\"col_heading level0 col2\" >(120, 180]</th>        <th class=\"col_heading level0 col3\" >(180, 240]</th>        <th class=\"col_heading level0 col4\" >(240, 300]</th>        <th class=\"col_heading level0 col5\" >(300, 360]</th>    </tr>    <tr>        <th class=\"index_name level0\" >IsData</th>        <th class=\"index_name level1\" >Leave</th>        <th class=\"index_name level2\" >NewContract</th>        <th class=\"blank\" ></th>        <th class=\"blank\" ></th>        <th class=\"blank\" ></th>        <th class=\"blank\" ></th>        <th class=\"blank\" ></th>        <th class=\"blank\" ></th>    </tr></thead><tbody>\n",
       "                <tr>\n",
       "                        <th id=\"T_32534768_ce95_11eb_bc33_acd5648baa3clevel0_row0\" class=\"row_heading level0 row0\" rowspan=4>0</th>\n",
       "                        <th id=\"T_32534768_ce95_11eb_bc33_acd5648baa3clevel1_row0\" class=\"row_heading level1 row0\" rowspan=2>0</th>\n",
       "                        <th id=\"T_32534768_ce95_11eb_bc33_acd5648baa3clevel2_row0\" class=\"row_heading level2 row0\" >0</th>\n",
       "                        <td id=\"T_32534768_ce95_11eb_bc33_acd5648baa3crow0_col0\" class=\"data row0 col0\" >0.000000</td>\n",
       "                        <td id=\"T_32534768_ce95_11eb_bc33_acd5648baa3crow0_col1\" class=\"data row0 col1\" >0.068000</td>\n",
       "                        <td id=\"T_32534768_ce95_11eb_bc33_acd5648baa3crow0_col2\" class=\"data row0 col2\" >0.066000</td>\n",
       "                        <td id=\"T_32534768_ce95_11eb_bc33_acd5648baa3crow0_col3\" class=\"data row0 col3\" >0.084000</td>\n",
       "                        <td id=\"T_32534768_ce95_11eb_bc33_acd5648baa3crow0_col4\" class=\"data row0 col4\" >0.051000</td>\n",
       "                        <td id=\"T_32534768_ce95_11eb_bc33_acd5648baa3crow0_col5\" class=\"data row0 col5\" >0.000000</td>\n",
       "            </tr>\n",
       "            <tr>\n",
       "                                        <th id=\"T_32534768_ce95_11eb_bc33_acd5648baa3clevel2_row1\" class=\"row_heading level2 row1\" >1</th>\n",
       "                        <td id=\"T_32534768_ce95_11eb_bc33_acd5648baa3crow1_col0\" class=\"data row1 col0\" >0.088000</td>\n",
       "                        <td id=\"T_32534768_ce95_11eb_bc33_acd5648baa3crow1_col1\" class=\"data row1 col1\" >0.079000</td>\n",
       "                        <td id=\"T_32534768_ce95_11eb_bc33_acd5648baa3crow1_col2\" class=\"data row1 col2\" >0.075000</td>\n",
       "                        <td id=\"T_32534768_ce95_11eb_bc33_acd5648baa3crow1_col3\" class=\"data row1 col3\" >0.075000</td>\n",
       "                        <td id=\"T_32534768_ce95_11eb_bc33_acd5648baa3crow1_col4\" class=\"data row1 col4\" >0.063000</td>\n",
       "                        <td id=\"T_32534768_ce95_11eb_bc33_acd5648baa3crow1_col5\" class=\"data row1 col5\" >0.143000</td>\n",
       "            </tr>\n",
       "            <tr>\n",
       "                                <th id=\"T_32534768_ce95_11eb_bc33_acd5648baa3clevel1_row2\" class=\"row_heading level1 row2\" rowspan=2>1</th>\n",
       "                        <th id=\"T_32534768_ce95_11eb_bc33_acd5648baa3clevel2_row2\" class=\"row_heading level2 row2\" >0</th>\n",
       "                        <td id=\"T_32534768_ce95_11eb_bc33_acd5648baa3crow2_col0\" class=\"data row2 col0\" >0.000000</td>\n",
       "                        <td id=\"T_32534768_ce95_11eb_bc33_acd5648baa3crow2_col1\" class=\"data row2 col1\" >0.144000</td>\n",
       "                        <td id=\"T_32534768_ce95_11eb_bc33_acd5648baa3crow2_col2\" class=\"data row2 col2\" >0.067000</td>\n",
       "                        <td id=\"T_32534768_ce95_11eb_bc33_acd5648baa3crow2_col3\" class=\"data row2 col3\" >0.070000</td>\n",
       "                        <td id=\"T_32534768_ce95_11eb_bc33_acd5648baa3crow2_col4\" class=\"data row2 col4\" >0.079000</td>\n",
       "                        <td id=\"T_32534768_ce95_11eb_bc33_acd5648baa3crow2_col5\" class=\"data row2 col5\" >0.000000</td>\n",
       "            </tr>\n",
       "            <tr>\n",
       "                                        <th id=\"T_32534768_ce95_11eb_bc33_acd5648baa3clevel2_row3\" class=\"row_heading level2 row3\" >1</th>\n",
       "                        <td id=\"T_32534768_ce95_11eb_bc33_acd5648baa3crow3_col0\" class=\"data row3 col0\" >0.000000</td>\n",
       "                        <td id=\"T_32534768_ce95_11eb_bc33_acd5648baa3crow3_col1\" class=\"data row3 col1\" >0.065000</td>\n",
       "                        <td id=\"T_32534768_ce95_11eb_bc33_acd5648baa3crow3_col2\" class=\"data row3 col2\" >0.047000</td>\n",
       "                        <td id=\"T_32534768_ce95_11eb_bc33_acd5648baa3crow3_col3\" class=\"data row3 col3\" >0.056000</td>\n",
       "                        <td id=\"T_32534768_ce95_11eb_bc33_acd5648baa3crow3_col4\" class=\"data row3 col4\" >0.055000</td>\n",
       "                        <td id=\"T_32534768_ce95_11eb_bc33_acd5648baa3crow3_col5\" class=\"data row3 col5\" >0.056000</td>\n",
       "            </tr>\n",
       "            <tr>\n",
       "                        <th id=\"T_32534768_ce95_11eb_bc33_acd5648baa3clevel0_row4\" class=\"row_heading level0 row4\" rowspan=4>1</th>\n",
       "                        <th id=\"T_32534768_ce95_11eb_bc33_acd5648baa3clevel1_row4\" class=\"row_heading level1 row4\" rowspan=2>0</th>\n",
       "                        <th id=\"T_32534768_ce95_11eb_bc33_acd5648baa3clevel2_row4\" class=\"row_heading level2 row4\" >0</th>\n",
       "                        <td id=\"T_32534768_ce95_11eb_bc33_acd5648baa3crow4_col0\" class=\"data row4 col0\" >0.000000</td>\n",
       "                        <td id=\"T_32534768_ce95_11eb_bc33_acd5648baa3crow4_col1\" class=\"data row4 col1\" >2.692000</td>\n",
       "                        <td id=\"T_32534768_ce95_11eb_bc33_acd5648baa3crow4_col2\" class=\"data row4 col2\" >2.728000</td>\n",
       "                        <td id=\"T_32534768_ce95_11eb_bc33_acd5648baa3crow4_col3\" class=\"data row4 col3\" >2.729000</td>\n",
       "                        <td id=\"T_32534768_ce95_11eb_bc33_acd5648baa3crow4_col4\" class=\"data row4 col4\" >2.742000</td>\n",
       "                        <td id=\"T_32534768_ce95_11eb_bc33_acd5648baa3crow4_col5\" class=\"data row4 col5\" >2.160000</td>\n",
       "            </tr>\n",
       "            <tr>\n",
       "                                        <th id=\"T_32534768_ce95_11eb_bc33_acd5648baa3clevel2_row5\" class=\"row_heading level2 row5\" >1</th>\n",
       "                        <td id=\"T_32534768_ce95_11eb_bc33_acd5648baa3crow5_col0\" class=\"data row5 col0\" >2.371000</td>\n",
       "                        <td id=\"T_32534768_ce95_11eb_bc33_acd5648baa3crow5_col1\" class=\"data row5 col1\" >2.762000</td>\n",
       "                        <td id=\"T_32534768_ce95_11eb_bc33_acd5648baa3crow5_col2\" class=\"data row5 col2\" >2.702000</td>\n",
       "                        <td id=\"T_32534768_ce95_11eb_bc33_acd5648baa3crow5_col3\" class=\"data row5 col3\" >2.750000</td>\n",
       "                        <td id=\"T_32534768_ce95_11eb_bc33_acd5648baa3crow5_col4\" class=\"data row5 col4\" >2.821000</td>\n",
       "                        <td id=\"T_32534768_ce95_11eb_bc33_acd5648baa3crow5_col5\" class=\"data row5 col5\" >3.174000</td>\n",
       "            </tr>\n",
       "            <tr>\n",
       "                                <th id=\"T_32534768_ce95_11eb_bc33_acd5648baa3clevel1_row6\" class=\"row_heading level1 row6\" rowspan=2>1</th>\n",
       "                        <th id=\"T_32534768_ce95_11eb_bc33_acd5648baa3clevel2_row6\" class=\"row_heading level2 row6\" >0</th>\n",
       "                        <td id=\"T_32534768_ce95_11eb_bc33_acd5648baa3crow6_col0\" class=\"data row6 col0\" >0.000000</td>\n",
       "                        <td id=\"T_32534768_ce95_11eb_bc33_acd5648baa3crow6_col1\" class=\"data row6 col1\" >3.105000</td>\n",
       "                        <td id=\"T_32534768_ce95_11eb_bc33_acd5648baa3crow6_col2\" class=\"data row6 col2\" >3.047000</td>\n",
       "                        <td id=\"T_32534768_ce95_11eb_bc33_acd5648baa3crow6_col3\" class=\"data row6 col3\" >3.587000</td>\n",
       "                        <td id=\"T_32534768_ce95_11eb_bc33_acd5648baa3crow6_col4\" class=\"data row6 col4\" >3.407000</td>\n",
       "                        <td id=\"T_32534768_ce95_11eb_bc33_acd5648baa3crow6_col5\" class=\"data row6 col5\" >0.000000</td>\n",
       "            </tr>\n",
       "            <tr>\n",
       "                                        <th id=\"T_32534768_ce95_11eb_bc33_acd5648baa3clevel2_row7\" class=\"row_heading level2 row7\" >1</th>\n",
       "                        <td id=\"T_32534768_ce95_11eb_bc33_acd5648baa3crow7_col0\" class=\"data row7 col0\" >0.000000</td>\n",
       "                        <td id=\"T_32534768_ce95_11eb_bc33_acd5648baa3crow7_col1\" class=\"data row7 col1\" >2.644000</td>\n",
       "                        <td id=\"T_32534768_ce95_11eb_bc33_acd5648baa3crow7_col2\" class=\"data row7 col2\" >3.105000</td>\n",
       "                        <td id=\"T_32534768_ce95_11eb_bc33_acd5648baa3crow7_col3\" class=\"data row7 col3\" >2.398000</td>\n",
       "                        <td id=\"T_32534768_ce95_11eb_bc33_acd5648baa3crow7_col4\" class=\"data row7 col4\" >1.650000</td>\n",
       "                        <td id=\"T_32534768_ce95_11eb_bc33_acd5648baa3crow7_col5\" class=\"data row7 col5\" >1.810000</td>\n",
       "            </tr>\n",
       "    </tbody></table>"
      ],
      "text/plain": [
       "<pandas.io.formats.style.Styler at 0x2114d33b288>"
      ]
     },
     "execution_count": 18,
     "metadata": {},
     "output_type": "execute_result"
    }
   ],
   "source": [
    "(\n",
    "telco.reset_index().pivot_table(index = [telco.IsData, telco.Leave, telco.NewContract],\n",
    "                         columns = pd.cut(telco.CalMins, list(range(0,500,60))),\n",
    "                         values = 'DataAmount',\n",
    "                         aggfunc = 'mean')\n",
    "    .fillna(0)\n",
    "    .round(3)\n",
    "    .style.highlight_max(axis=1)\n",
    ")"
   ]
  },
  {
   "cell_type": "markdown",
   "metadata": {},
   "source": [
    "#### 종합별 데이터사용량에 따른 월평균전화량 분포표\n",
    "데이터요금제X 중 해지한 사람이 전화를 더 많이합니다.  \n",
    "데이터요금제O 중 해지한 사람이 평균데이터사용량이 많고 전화도 많이 합니다."
   ]
  },
  {
   "cell_type": "code",
   "execution_count": 52,
   "metadata": {},
   "outputs": [
    {
     "data": {
      "text/html": [
       "<style  type=\"text/css\" >\n",
       "    #T_0b673634_cd11_11eb_ba2a_acd5648baa3crow0_col0 {\n",
       "            background-color:  yellow;\n",
       "        }    #T_0b673634_cd11_11eb_ba2a_acd5648baa3crow0_col1 {\n",
       "            background-color:  yellow;\n",
       "        }    #T_0b673634_cd11_11eb_ba2a_acd5648baa3crow1_col0 {\n",
       "            background-color:  yellow;\n",
       "        }    #T_0b673634_cd11_11eb_ba2a_acd5648baa3crow2_col1 {\n",
       "            background-color:  yellow;\n",
       "        }    #T_0b673634_cd11_11eb_ba2a_acd5648baa3crow3_col1 {\n",
       "            background-color:  yellow;\n",
       "        }    #T_0b673634_cd11_11eb_ba2a_acd5648baa3crow4_col1 {\n",
       "            background-color:  yellow;\n",
       "        }    #T_0b673634_cd11_11eb_ba2a_acd5648baa3crow5_col5 {\n",
       "            background-color:  yellow;\n",
       "        }    #T_0b673634_cd11_11eb_ba2a_acd5648baa3crow6_col5 {\n",
       "            background-color:  yellow;\n",
       "        }    #T_0b673634_cd11_11eb_ba2a_acd5648baa3crow7_col2 {\n",
       "            background-color:  yellow;\n",
       "        }</style><table id=\"T_0b673634_cd11_11eb_ba2a_acd5648baa3c\" ><thead>    <tr>        <th class=\"blank\" ></th>        <th class=\"blank\" ></th>        <th class=\"index_name level0\" >DataAmount</th>        <th class=\"col_heading level0 col0\" >(-1, 0]</th>        <th class=\"col_heading level0 col1\" >(0, 1]</th>        <th class=\"col_heading level0 col2\" >(1, 2]</th>        <th class=\"col_heading level0 col3\" >(2, 3]</th>        <th class=\"col_heading level0 col4\" >(3, 4]</th>        <th class=\"col_heading level0 col5\" >(4, 5]</th>        <th class=\"col_heading level0 col6\" >(5, 6]</th>    </tr>    <tr>        <th class=\"index_name level0\" >IsData</th>        <th class=\"index_name level1\" >Leave</th>        <th class=\"index_name level2\" >NewContract</th>        <th class=\"blank\" ></th>        <th class=\"blank\" ></th>        <th class=\"blank\" ></th>        <th class=\"blank\" ></th>        <th class=\"blank\" ></th>        <th class=\"blank\" ></th>        <th class=\"blank\" ></th>    </tr></thead><tbody>\n",
       "                <tr>\n",
       "                        <th id=\"T_0b673634_cd11_11eb_ba2a_acd5648baa3clevel0_row0\" class=\"row_heading level0 row0\" rowspan=4>0</th>\n",
       "                        <th id=\"T_0b673634_cd11_11eb_ba2a_acd5648baa3clevel1_row0\" class=\"row_heading level1 row0\" rowspan=2>0</th>\n",
       "                        <th id=\"T_0b673634_cd11_11eb_ba2a_acd5648baa3clevel2_row0\" class=\"row_heading level2 row0\" >0</th>\n",
       "                        <td id=\"T_0b673634_cd11_11eb_ba2a_acd5648baa3crow0_col0\" class=\"data row0 col0\" >183</td>\n",
       "                        <td id=\"T_0b673634_cd11_11eb_ba2a_acd5648baa3crow0_col1\" class=\"data row0 col1\" >183</td>\n",
       "                        <td id=\"T_0b673634_cd11_11eb_ba2a_acd5648baa3crow0_col2\" class=\"data row0 col2\" >0</td>\n",
       "                        <td id=\"T_0b673634_cd11_11eb_ba2a_acd5648baa3crow0_col3\" class=\"data row0 col3\" >0</td>\n",
       "                        <td id=\"T_0b673634_cd11_11eb_ba2a_acd5648baa3crow0_col4\" class=\"data row0 col4\" >0</td>\n",
       "                        <td id=\"T_0b673634_cd11_11eb_ba2a_acd5648baa3crow0_col5\" class=\"data row0 col5\" >0</td>\n",
       "                        <td id=\"T_0b673634_cd11_11eb_ba2a_acd5648baa3crow0_col6\" class=\"data row0 col6\" >0</td>\n",
       "            </tr>\n",
       "            <tr>\n",
       "                                        <th id=\"T_0b673634_cd11_11eb_ba2a_acd5648baa3clevel2_row1\" class=\"row_heading level2 row1\" >1</th>\n",
       "                        <td id=\"T_0b673634_cd11_11eb_ba2a_acd5648baa3crow1_col0\" class=\"data row1 col0\" >172</td>\n",
       "                        <td id=\"T_0b673634_cd11_11eb_ba2a_acd5648baa3crow1_col1\" class=\"data row1 col1\" >171</td>\n",
       "                        <td id=\"T_0b673634_cd11_11eb_ba2a_acd5648baa3crow1_col2\" class=\"data row1 col2\" >0</td>\n",
       "                        <td id=\"T_0b673634_cd11_11eb_ba2a_acd5648baa3crow1_col3\" class=\"data row1 col3\" >0</td>\n",
       "                        <td id=\"T_0b673634_cd11_11eb_ba2a_acd5648baa3crow1_col4\" class=\"data row1 col4\" >0</td>\n",
       "                        <td id=\"T_0b673634_cd11_11eb_ba2a_acd5648baa3crow1_col5\" class=\"data row1 col5\" >0</td>\n",
       "                        <td id=\"T_0b673634_cd11_11eb_ba2a_acd5648baa3crow1_col6\" class=\"data row1 col6\" >0</td>\n",
       "            </tr>\n",
       "            <tr>\n",
       "                                <th id=\"T_0b673634_cd11_11eb_ba2a_acd5648baa3clevel1_row2\" class=\"row_heading level1 row2\" rowspan=2>1</th>\n",
       "                        <th id=\"T_0b673634_cd11_11eb_ba2a_acd5648baa3clevel2_row2\" class=\"row_heading level2 row2\" >0</th>\n",
       "                        <td id=\"T_0b673634_cd11_11eb_ba2a_acd5648baa3crow2_col0\" class=\"data row2 col0\" >193</td>\n",
       "                        <td id=\"T_0b673634_cd11_11eb_ba2a_acd5648baa3crow2_col1\" class=\"data row2 col1\" >194</td>\n",
       "                        <td id=\"T_0b673634_cd11_11eb_ba2a_acd5648baa3crow2_col2\" class=\"data row2 col2\" >0</td>\n",
       "                        <td id=\"T_0b673634_cd11_11eb_ba2a_acd5648baa3crow2_col3\" class=\"data row2 col3\" >0</td>\n",
       "                        <td id=\"T_0b673634_cd11_11eb_ba2a_acd5648baa3crow2_col4\" class=\"data row2 col4\" >0</td>\n",
       "                        <td id=\"T_0b673634_cd11_11eb_ba2a_acd5648baa3crow2_col5\" class=\"data row2 col5\" >0</td>\n",
       "                        <td id=\"T_0b673634_cd11_11eb_ba2a_acd5648baa3crow2_col6\" class=\"data row2 col6\" >0</td>\n",
       "            </tr>\n",
       "            <tr>\n",
       "                                        <th id=\"T_0b673634_cd11_11eb_ba2a_acd5648baa3clevel2_row3\" class=\"row_heading level2 row3\" >1</th>\n",
       "                        <td id=\"T_0b673634_cd11_11eb_ba2a_acd5648baa3crow3_col0\" class=\"data row3 col0\" >219</td>\n",
       "                        <td id=\"T_0b673634_cd11_11eb_ba2a_acd5648baa3crow3_col1\" class=\"data row3 col1\" >220</td>\n",
       "                        <td id=\"T_0b673634_cd11_11eb_ba2a_acd5648baa3crow3_col2\" class=\"data row3 col2\" >0</td>\n",
       "                        <td id=\"T_0b673634_cd11_11eb_ba2a_acd5648baa3crow3_col3\" class=\"data row3 col3\" >0</td>\n",
       "                        <td id=\"T_0b673634_cd11_11eb_ba2a_acd5648baa3crow3_col4\" class=\"data row3 col4\" >0</td>\n",
       "                        <td id=\"T_0b673634_cd11_11eb_ba2a_acd5648baa3crow3_col5\" class=\"data row3 col5\" >0</td>\n",
       "                        <td id=\"T_0b673634_cd11_11eb_ba2a_acd5648baa3crow3_col6\" class=\"data row3 col6\" >0</td>\n",
       "            </tr>\n",
       "            <tr>\n",
       "                        <th id=\"T_0b673634_cd11_11eb_ba2a_acd5648baa3clevel0_row4\" class=\"row_heading level0 row4\" rowspan=4>1</th>\n",
       "                        <th id=\"T_0b673634_cd11_11eb_ba2a_acd5648baa3clevel1_row4\" class=\"row_heading level1 row4\" rowspan=2>0</th>\n",
       "                        <th id=\"T_0b673634_cd11_11eb_ba2a_acd5648baa3clevel2_row4\" class=\"row_heading level2 row4\" >0</th>\n",
       "                        <td id=\"T_0b673634_cd11_11eb_ba2a_acd5648baa3crow4_col0\" class=\"data row4 col0\" >0</td>\n",
       "                        <td id=\"T_0b673634_cd11_11eb_ba2a_acd5648baa3crow4_col1\" class=\"data row4 col1\" >196</td>\n",
       "                        <td id=\"T_0b673634_cd11_11eb_ba2a_acd5648baa3crow4_col2\" class=\"data row4 col2\" >169</td>\n",
       "                        <td id=\"T_0b673634_cd11_11eb_ba2a_acd5648baa3crow4_col3\" class=\"data row4 col3\" >182</td>\n",
       "                        <td id=\"T_0b673634_cd11_11eb_ba2a_acd5648baa3crow4_col4\" class=\"data row4 col4\" >190</td>\n",
       "                        <td id=\"T_0b673634_cd11_11eb_ba2a_acd5648baa3crow4_col5\" class=\"data row4 col5\" >0</td>\n",
       "                        <td id=\"T_0b673634_cd11_11eb_ba2a_acd5648baa3crow4_col6\" class=\"data row4 col6\" >0</td>\n",
       "            </tr>\n",
       "            <tr>\n",
       "                                        <th id=\"T_0b673634_cd11_11eb_ba2a_acd5648baa3clevel2_row5\" class=\"row_heading level2 row5\" >1</th>\n",
       "                        <td id=\"T_0b673634_cd11_11eb_ba2a_acd5648baa3crow5_col0\" class=\"data row5 col0\" >127</td>\n",
       "                        <td id=\"T_0b673634_cd11_11eb_ba2a_acd5648baa3crow5_col1\" class=\"data row5 col1\" >158</td>\n",
       "                        <td id=\"T_0b673634_cd11_11eb_ba2a_acd5648baa3crow5_col2\" class=\"data row5 col2\" >174</td>\n",
       "                        <td id=\"T_0b673634_cd11_11eb_ba2a_acd5648baa3crow5_col3\" class=\"data row5 col3\" >183</td>\n",
       "                        <td id=\"T_0b673634_cd11_11eb_ba2a_acd5648baa3crow5_col4\" class=\"data row5 col4\" >177</td>\n",
       "                        <td id=\"T_0b673634_cd11_11eb_ba2a_acd5648baa3crow5_col5\" class=\"data row5 col5\" >186</td>\n",
       "                        <td id=\"T_0b673634_cd11_11eb_ba2a_acd5648baa3crow5_col6\" class=\"data row5 col6\" >0</td>\n",
       "            </tr>\n",
       "            <tr>\n",
       "                                <th id=\"T_0b673634_cd11_11eb_ba2a_acd5648baa3clevel1_row6\" class=\"row_heading level1 row6\" rowspan=2>1</th>\n",
       "                        <th id=\"T_0b673634_cd11_11eb_ba2a_acd5648baa3clevel2_row6\" class=\"row_heading level2 row6\" >0</th>\n",
       "                        <td id=\"T_0b673634_cd11_11eb_ba2a_acd5648baa3crow6_col0\" class=\"data row6 col0\" >0</td>\n",
       "                        <td id=\"T_0b673634_cd11_11eb_ba2a_acd5648baa3crow6_col1\" class=\"data row6 col1\" >0</td>\n",
       "                        <td id=\"T_0b673634_cd11_11eb_ba2a_acd5648baa3crow6_col2\" class=\"data row6 col2\" >183</td>\n",
       "                        <td id=\"T_0b673634_cd11_11eb_ba2a_acd5648baa3crow6_col3\" class=\"data row6 col3\" >179</td>\n",
       "                        <td id=\"T_0b673634_cd11_11eb_ba2a_acd5648baa3crow6_col4\" class=\"data row6 col4\" >196</td>\n",
       "                        <td id=\"T_0b673634_cd11_11eb_ba2a_acd5648baa3crow6_col5\" class=\"data row6 col5\" >221</td>\n",
       "                        <td id=\"T_0b673634_cd11_11eb_ba2a_acd5648baa3crow6_col6\" class=\"data row6 col6\" >196</td>\n",
       "            </tr>\n",
       "            <tr>\n",
       "                                        <th id=\"T_0b673634_cd11_11eb_ba2a_acd5648baa3clevel2_row7\" class=\"row_heading level2 row7\" >1</th>\n",
       "                        <td id=\"T_0b673634_cd11_11eb_ba2a_acd5648baa3crow7_col0\" class=\"data row7 col0\" >0</td>\n",
       "                        <td id=\"T_0b673634_cd11_11eb_ba2a_acd5648baa3crow7_col1\" class=\"data row7 col1\" >0</td>\n",
       "                        <td id=\"T_0b673634_cd11_11eb_ba2a_acd5648baa3crow7_col2\" class=\"data row7 col2\" >206</td>\n",
       "                        <td id=\"T_0b673634_cd11_11eb_ba2a_acd5648baa3crow7_col3\" class=\"data row7 col3\" >158</td>\n",
       "                        <td id=\"T_0b673634_cd11_11eb_ba2a_acd5648baa3crow7_col4\" class=\"data row7 col4\" >150</td>\n",
       "                        <td id=\"T_0b673634_cd11_11eb_ba2a_acd5648baa3crow7_col5\" class=\"data row7 col5\" >147</td>\n",
       "                        <td id=\"T_0b673634_cd11_11eb_ba2a_acd5648baa3crow7_col6\" class=\"data row7 col6\" >0</td>\n",
       "            </tr>\n",
       "    </tbody></table>"
      ],
      "text/plain": [
       "<pandas.io.formats.style.Styler at 0x28ebb2cc648>"
      ]
     },
     "execution_count": 52,
     "metadata": {},
     "output_type": "execute_result"
    }
   ],
   "source": [
    "(\n",
    "telco.reset_index().pivot_table(index = [telco.IsData, telco.Leave, telco.NewContract],\n",
    "                         columns = pd.cut(telco.DataAmount, list(range(-1,7))),\n",
    "                         values = 'CalMins',\n",
    "                         aggfunc = 'mean')\n",
    "    .fillna(0)\n",
    "    .astype(int)\n",
    "    .style.highlight_max(axis=1)\n",
    ")"
   ]
  },
  {
   "cell_type": "markdown",
   "metadata": {},
   "source": [
    "#### 종합별 가입기간 분포표\n",
    "(한달을 약 4주로 잡을때 4주 x 12달 = 48주 + 여유 2주 = 50주 = 1년으로 환산)  \n",
    "대부분 1-3년동안 가입합니다"
   ]
  },
  {
   "cell_type": "code",
   "execution_count": 20,
   "metadata": {},
   "outputs": [
    {
     "data": {
      "text/html": [
       "<style  type=\"text/css\" >\n",
       "    #T_f315dae4_ce0e_11eb_8370_acd5648baa3crow0_col2 {\n",
       "            background-color:  yellow;\n",
       "        }    #T_f315dae4_ce0e_11eb_8370_acd5648baa3crow1_col1 {\n",
       "            background-color:  yellow;\n",
       "        }    #T_f315dae4_ce0e_11eb_8370_acd5648baa3crow2_col2 {\n",
       "            background-color:  yellow;\n",
       "        }    #T_f315dae4_ce0e_11eb_8370_acd5648baa3crow3_col1 {\n",
       "            background-color:  yellow;\n",
       "        }    #T_f315dae4_ce0e_11eb_8370_acd5648baa3crow3_col2 {\n",
       "            background-color:  yellow;\n",
       "        }</style><table id=\"T_f315dae4_ce0e_11eb_8370_acd5648baa3c\" ><thead>    <tr>        <th class=\"blank\" ></th>        <th class=\"index_name level0\" >MemberWeeks</th>        <th class=\"col_heading level0 col0\" >(0, 50]</th>        <th class=\"col_heading level0 col1\" >(50, 100]</th>        <th class=\"col_heading level0 col2\" >(100, 150]</th>        <th class=\"col_heading level0 col3\" >(150, 200]</th>        <th class=\"col_heading level0 col4\" >(200, 250]</th>    </tr>    <tr>        <th class=\"index_name level0\" >Leave</th>        <th class=\"index_name level1\" >NewContract</th>        <th class=\"blank\" ></th>        <th class=\"blank\" ></th>        <th class=\"blank\" ></th>        <th class=\"blank\" ></th>        <th class=\"blank\" ></th>    </tr></thead><tbody>\n",
       "                <tr>\n",
       "                        <th id=\"T_f315dae4_ce0e_11eb_8370_acd5648baa3clevel0_row0\" class=\"row_heading level0 row0\" rowspan=2>0</th>\n",
       "                        <th id=\"T_f315dae4_ce0e_11eb_8370_acd5648baa3clevel1_row0\" class=\"row_heading level1 row0\" >0</th>\n",
       "                        <td id=\"T_f315dae4_ce0e_11eb_8370_acd5648baa3crow0_col0\" class=\"data row0 col0\" >17</td>\n",
       "                        <td id=\"T_f315dae4_ce0e_11eb_8370_acd5648baa3crow0_col1\" class=\"data row0 col1\" >72</td>\n",
       "                        <td id=\"T_f315dae4_ce0e_11eb_8370_acd5648baa3crow0_col2\" class=\"data row0 col2\" >78</td>\n",
       "                        <td id=\"T_f315dae4_ce0e_11eb_8370_acd5648baa3crow0_col3\" class=\"data row0 col3\" >19</td>\n",
       "                        <td id=\"T_f315dae4_ce0e_11eb_8370_acd5648baa3crow0_col4\" class=\"data row0 col4\" >0</td>\n",
       "            </tr>\n",
       "            <tr>\n",
       "                                <th id=\"T_f315dae4_ce0e_11eb_8370_acd5648baa3clevel1_row1\" class=\"row_heading level1 row1\" >1</th>\n",
       "                        <td id=\"T_f315dae4_ce0e_11eb_8370_acd5648baa3crow1_col0\" class=\"data row1 col0\" >280</td>\n",
       "                        <td id=\"T_f315dae4_ce0e_11eb_8370_acd5648baa3crow1_col1\" class=\"data row1 col1\" >1061</td>\n",
       "                        <td id=\"T_f315dae4_ce0e_11eb_8370_acd5648baa3crow1_col2\" class=\"data row1 col2\" >1040</td>\n",
       "                        <td id=\"T_f315dae4_ce0e_11eb_8370_acd5648baa3crow1_col3\" class=\"data row1 col3\" >263</td>\n",
       "                        <td id=\"T_f315dae4_ce0e_11eb_8370_acd5648baa3crow1_col4\" class=\"data row1 col4\" >20</td>\n",
       "            </tr>\n",
       "            <tr>\n",
       "                        <th id=\"T_f315dae4_ce0e_11eb_8370_acd5648baa3clevel0_row2\" class=\"row_heading level0 row2\" rowspan=2>1</th>\n",
       "                        <th id=\"T_f315dae4_ce0e_11eb_8370_acd5648baa3clevel1_row2\" class=\"row_heading level1 row2\" >0</th>\n",
       "                        <td id=\"T_f315dae4_ce0e_11eb_8370_acd5648baa3crow2_col0\" class=\"data row2 col0\" >7</td>\n",
       "                        <td id=\"T_f315dae4_ce0e_11eb_8370_acd5648baa3crow2_col1\" class=\"data row2 col1\" >56</td>\n",
       "                        <td id=\"T_f315dae4_ce0e_11eb_8370_acd5648baa3crow2_col2\" class=\"data row2 col2\" >61</td>\n",
       "                        <td id=\"T_f315dae4_ce0e_11eb_8370_acd5648baa3crow2_col3\" class=\"data row2 col3\" >12</td>\n",
       "                        <td id=\"T_f315dae4_ce0e_11eb_8370_acd5648baa3crow2_col4\" class=\"data row2 col4\" >1</td>\n",
       "            </tr>\n",
       "            <tr>\n",
       "                                <th id=\"T_f315dae4_ce0e_11eb_8370_acd5648baa3clevel1_row3\" class=\"row_heading level1 row3\" >1</th>\n",
       "                        <td id=\"T_f315dae4_ce0e_11eb_8370_acd5648baa3crow3_col0\" class=\"data row3 col0\" >37</td>\n",
       "                        <td id=\"T_f315dae4_ce0e_11eb_8370_acd5648baa3crow3_col1\" class=\"data row3 col1\" >134</td>\n",
       "                        <td id=\"T_f315dae4_ce0e_11eb_8370_acd5648baa3crow3_col2\" class=\"data row3 col2\" >134</td>\n",
       "                        <td id=\"T_f315dae4_ce0e_11eb_8370_acd5648baa3crow3_col3\" class=\"data row3 col3\" >36</td>\n",
       "                        <td id=\"T_f315dae4_ce0e_11eb_8370_acd5648baa3crow3_col4\" class=\"data row3 col4\" >5</td>\n",
       "            </tr>\n",
       "    </tbody></table>"
      ],
      "text/plain": [
       "<pandas.io.formats.style.Styler at 0x27fc55755c8>"
      ]
     },
     "execution_count": 20,
     "metadata": {},
     "output_type": "execute_result"
    }
   ],
   "source": [
    "\n",
    "(\n",
    "telco.reset_index().pivot_table(index = ['Leave', 'NewContract'],\n",
    "                         columns = pd.cut(telco.MemberWeeks, list(range(0,260,50))),\n",
    "                         values = 'index',\n",
    "                         aggfunc = 'count')\n",
    "    .fillna(0)\n",
    "    .astype(int)\n",
    "    .style.highlight_max(axis=1)\n",
    ")"
   ]
  },
  {
   "cell_type": "markdown",
   "metadata": {},
   "source": [
    "#### 데이터사용량과 월평균전화량에 따른 로밍시간 분포표\n",
    "데이터사용량이 많으면 로밍시간도 많습니다. 전화량에는 관여하지 않습니다."
   ]
  },
  {
   "cell_type": "code",
   "execution_count": 52,
   "metadata": {},
   "outputs": [
    {
     "data": {
      "text/plain": [
       "<matplotlib.axes._subplots.AxesSubplot at 0x27fc7d33fc8>"
      ]
     },
     "execution_count": 52,
     "metadata": {},
     "output_type": "execute_result"
    },
    {
     "data": {
      "image/png": "[encoded data removed]",
      "text/plain": [
       "<Figure size 432x288 with 2 Axes>"
      ]
     },
     "metadata": {
      "needs_background": "light"
     },
     "output_type": "display_data"
    }
   ],
   "source": [
    "func = [pd.cut(telco.CalMins, list(range(0,500,60))), pd.cut(telco.DataAmount, list(range(-1,7)))]\n",
    "\n",
    "table = (\n",
    " telco.groupby(func)\n",
    " [['RoamingMin']]\n",
    " .mean()\n",
    " .unstack()\n",
    " #.style.highlight_max(color='lightgrey')\n",
    ")\n",
    "sns.heatmap(table, cmap='Greys')\n"
   ]
  },
  {
   "cell_type": "markdown",
   "metadata": {},
   "source": [
    "## 분석 결과 및 마케팅 서비스 제의\n",
    "\n",
    "1 해지를 한 사람들은 데이터와 전화를 많이 쓰거나(데이터요금제사용자) 전화를 많이 썼습니다.(데이터요금제미사용자)\n",
    "- 고객 가입을 위해서 데이터와 전화량을 많이 제공하고 가격이 싼 프로모션 진행 필요\n",
    "\n",
    "2 가입기간도 1-3년이 대부분이라 가입기간을 더 길게 잡아야 할 것입니다.\n",
    "- 가입 장기간 혜택 필요\n",
    "\n",
    "3 데이터량 1-3GB 사용하고 전화량 5-6시간 사용하는 사람들은 가입기간이 깁니다. = 현재 가입에 만족한다는 뜻\n",
    "- 데이터량은 적지만 전화량을 많이 제공하는 요금제 행사 진행 필요\n",
    "\n",
    "4 데이터를 많이 사용하는 사람이 로밍도 많이 사용한다.\n",
    "- 로밍혜택 필요"
   ]
  },
  {
   "cell_type": "code",
   "execution_count": null,
   "metadata": {},
   "outputs": [],
   "source": []
  }
 ],
 "metadata": {
  "kernelspec": {
   "display_name": "Python 3",
   "language": "python",
   "name": "python3"
  },
  "language_info": {
   "codemirror_mode": {
    "name": "ipython",
    "version": 3
   },
   "file_extension": ".py",
   "mimetype": "text/x-python",
   "name": "python",
   "nbconvert_exporter": "python",
   "pygments_lexer": "ipython3",
   "version": "3.7.6"
  }
 },
 "nbformat": 4,
 "nbformat_minor": 4
}
